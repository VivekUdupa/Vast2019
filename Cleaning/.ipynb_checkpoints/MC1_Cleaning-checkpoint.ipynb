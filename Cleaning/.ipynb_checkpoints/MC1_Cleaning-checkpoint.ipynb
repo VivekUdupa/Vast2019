{
 "cells": [
  {
   "cell_type": "markdown",
   "metadata": {},
   "source": [
    "# VAST Challenge 2019: Disaster at St. Himark!\n",
    "\n",
    "St. Himark is a beautiful community located at the Ocenaus sea. It is a small community with almost everything it needs to sustain a spirited civilization. St. Himark is primarily powered by the Always Safe Nuclear Power Plant. This was true until the disaster struck. Now, Mayor Jordan, city officials, and emergency services are overwhelmed and are desperate for assistance in understanding the true situation on the ground and how best to deploy the limited resources available to this relatively small community.\n",
    "\n",
    "## Mini-Challenge 1\n",
    "\n",
    "In a prescient move of community engagement, the city had released a new damage reporting mobile application, 'RUMBLE', that allows citizens to report damages that they see in their neighborhood. \n",
    "The challenge is to use app responses in conjunction with shake maps of the earthquake strength to identify areas of concern and advise emergency planners respond to damages more efficiently. \n",
    "\n",
    "### Data Description\n",
    "The data for MC1 is included in the 'mc1-reports-data.csv' CSV file that spans over the entire length of the event. It is consisted of categorical reports of shaking/damage to the neighborhood over time. \n",
    "\n",
    "#### Data Fields:\n",
    "* Time: Timestamp of incoming reports. Format: YYYY-MM-DD hh:mm:ss\n",
    "* Location: Neighborhood id, 1 through 19, representing different cities in St. Himark, where damage is reported.\n",
    "* Shake_intensity, Sewer&Water, Power, Roads&Bridges, Medical, Buildings: Reported damage extent. 0 -> lowest, 10 -> highest\n",
    "\n",
    "_Missing data is allowed_\n",
    "\n",
    "### Data Cleaning\n",
    "Since the given csv file has certain missing files and other irregularities, the data must be cleaned for the ease of visualization and analysis. Python Pandas to the rescue! Using Python Pandas, the data is re-structured to achieve optimum visualization and analysis. \n"
   ]
  },
  {
   "cell_type": "code",
   "execution_count": 1,
   "metadata": {},
   "outputs": [
    {
     "name": "stdout",
     "output_type": "stream",
     "text": [
      "Import Success!\n"
     ]
    }
   ],
   "source": [
    "# Import all necessary packages\n",
    "\n",
    "import numpy as np\n",
    "import pandas as pd\n",
    "import math\n",
    "\n",
    "print(\"Import Success!\")"
   ]
  },
  {
   "cell_type": "markdown",
   "metadata": {},
   "source": [
    "Once the required packages are imported successfully, the next step is to read the csv file. This task is simplified thanks to pandas. **pd.read_csv** reads the csv file into a panda data frame. \n",
    "\n",
    "The **df.head()** function is used to see the first 5 entries in the data frame, making sure that the data was read correctly. "
   ]
  },
  {
   "cell_type": "code",
   "execution_count": 2,
   "metadata": {},
   "outputs": [
    {
     "data": {
      "text/html": [
       "<div>\n",
       "<style scoped>\n",
       "    .dataframe tbody tr th:only-of-type {\n",
       "        vertical-align: middle;\n",
       "    }\n",
       "\n",
       "    .dataframe tbody tr th {\n",
       "        vertical-align: top;\n",
       "    }\n",
       "\n",
       "    .dataframe thead th {\n",
       "        text-align: right;\n",
       "    }\n",
       "</style>\n",
       "<table border=\"1\" class=\"dataframe\">\n",
       "  <thead>\n",
       "    <tr style=\"text-align: right;\">\n",
       "      <th></th>\n",
       "      <th>time</th>\n",
       "      <th>sewer_and_water</th>\n",
       "      <th>power</th>\n",
       "      <th>roads_and_bridges</th>\n",
       "      <th>medical</th>\n",
       "      <th>buildings</th>\n",
       "      <th>shake_intensity</th>\n",
       "      <th>location</th>\n",
       "    </tr>\n",
       "  </thead>\n",
       "  <tbody>\n",
       "    <tr>\n",
       "      <th>0</th>\n",
       "      <td>2020-04-08 17:50:00</td>\n",
       "      <td>10.0</td>\n",
       "      <td>6.0</td>\n",
       "      <td>10.0</td>\n",
       "      <td>3.0</td>\n",
       "      <td>8.0</td>\n",
       "      <td>NaN</td>\n",
       "      <td>1</td>\n",
       "    </tr>\n",
       "    <tr>\n",
       "      <th>1</th>\n",
       "      <td>2020-04-09 13:50:00</td>\n",
       "      <td>2.0</td>\n",
       "      <td>10.0</td>\n",
       "      <td>0.0</td>\n",
       "      <td>8.0</td>\n",
       "      <td>4.0</td>\n",
       "      <td>0.0</td>\n",
       "      <td>1</td>\n",
       "    </tr>\n",
       "    <tr>\n",
       "      <th>2</th>\n",
       "      <td>2020-04-09 00:20:00</td>\n",
       "      <td>7.0</td>\n",
       "      <td>10.0</td>\n",
       "      <td>10.0</td>\n",
       "      <td>9.0</td>\n",
       "      <td>10.0</td>\n",
       "      <td>0.0</td>\n",
       "      <td>1</td>\n",
       "    </tr>\n",
       "    <tr>\n",
       "      <th>3</th>\n",
       "      <td>2020-04-08 17:25:00</td>\n",
       "      <td>1.0</td>\n",
       "      <td>1.0</td>\n",
       "      <td>2.0</td>\n",
       "      <td>10.0</td>\n",
       "      <td>7.0</td>\n",
       "      <td>NaN</td>\n",
       "      <td>1</td>\n",
       "    </tr>\n",
       "    <tr>\n",
       "      <th>4</th>\n",
       "      <td>2020-04-08 02:50:00</td>\n",
       "      <td>9.0</td>\n",
       "      <td>7.0</td>\n",
       "      <td>1.0</td>\n",
       "      <td>6.0</td>\n",
       "      <td>9.0</td>\n",
       "      <td>NaN</td>\n",
       "      <td>1</td>\n",
       "    </tr>\n",
       "  </tbody>\n",
       "</table>\n",
       "</div>"
      ],
      "text/plain": [
       "                  time  sewer_and_water  power  roads_and_bridges  medical  \\\n",
       "0  2020-04-08 17:50:00             10.0    6.0               10.0      3.0   \n",
       "1  2020-04-09 13:50:00              2.0   10.0                0.0      8.0   \n",
       "2  2020-04-09 00:20:00              7.0   10.0               10.0      9.0   \n",
       "3  2020-04-08 17:25:00              1.0    1.0                2.0     10.0   \n",
       "4  2020-04-08 02:50:00              9.0    7.0                1.0      6.0   \n",
       "\n",
       "   buildings  shake_intensity  location  \n",
       "0        8.0              NaN         1  \n",
       "1        4.0              0.0         1  \n",
       "2       10.0              0.0         1  \n",
       "3        7.0              NaN         1  \n",
       "4        9.0              NaN         1  "
      ]
     },
     "metadata": {},
     "output_type": "display_data"
    },
    {
     "data": {
      "text/html": [
       "<div>\n",
       "<style scoped>\n",
       "    .dataframe tbody tr th:only-of-type {\n",
       "        vertical-align: middle;\n",
       "    }\n",
       "\n",
       "    .dataframe tbody tr th {\n",
       "        vertical-align: top;\n",
       "    }\n",
       "\n",
       "    .dataframe thead th {\n",
       "        text-align: right;\n",
       "    }\n",
       "</style>\n",
       "<table border=\"1\" class=\"dataframe\">\n",
       "  <thead>\n",
       "    <tr style=\"text-align: right;\">\n",
       "      <th></th>\n",
       "      <th>sewer_and_water</th>\n",
       "      <th>power</th>\n",
       "      <th>roads_and_bridges</th>\n",
       "      <th>medical</th>\n",
       "      <th>buildings</th>\n",
       "      <th>shake_intensity</th>\n",
       "      <th>location</th>\n",
       "    </tr>\n",
       "  </thead>\n",
       "  <tbody>\n",
       "    <tr>\n",
       "      <th>count</th>\n",
       "      <td>82899.000000</td>\n",
       "      <td>83070.000000</td>\n",
       "      <td>83070.000000</td>\n",
       "      <td>35629.000000</td>\n",
       "      <td>82900.000000</td>\n",
       "      <td>70926.000000</td>\n",
       "      <td>83070.000000</td>\n",
       "    </tr>\n",
       "    <tr>\n",
       "      <th>mean</th>\n",
       "      <td>5.649139</td>\n",
       "      <td>6.045371</td>\n",
       "      <td>5.743289</td>\n",
       "      <td>5.322687</td>\n",
       "      <td>4.744005</td>\n",
       "      <td>2.682641</td>\n",
       "      <td>8.978488</td>\n",
       "    </tr>\n",
       "    <tr>\n",
       "      <th>std</th>\n",
       "      <td>2.787791</td>\n",
       "      <td>2.851951</td>\n",
       "      <td>2.506399</td>\n",
       "      <td>2.527679</td>\n",
       "      <td>2.256358</td>\n",
       "      <td>1.935366</td>\n",
       "      <td>5.123608</td>\n",
       "    </tr>\n",
       "    <tr>\n",
       "      <th>min</th>\n",
       "      <td>0.000000</td>\n",
       "      <td>0.000000</td>\n",
       "      <td>0.000000</td>\n",
       "      <td>0.000000</td>\n",
       "      <td>0.000000</td>\n",
       "      <td>0.000000</td>\n",
       "      <td>1.000000</td>\n",
       "    </tr>\n",
       "    <tr>\n",
       "      <th>25%</th>\n",
       "      <td>3.000000</td>\n",
       "      <td>4.000000</td>\n",
       "      <td>4.000000</td>\n",
       "      <td>4.000000</td>\n",
       "      <td>3.000000</td>\n",
       "      <td>1.000000</td>\n",
       "      <td>4.000000</td>\n",
       "    </tr>\n",
       "    <tr>\n",
       "      <th>50%</th>\n",
       "      <td>6.000000</td>\n",
       "      <td>7.000000</td>\n",
       "      <td>6.000000</td>\n",
       "      <td>6.000000</td>\n",
       "      <td>5.000000</td>\n",
       "      <td>2.000000</td>\n",
       "      <td>8.000000</td>\n",
       "    </tr>\n",
       "    <tr>\n",
       "      <th>75%</th>\n",
       "      <td>8.000000</td>\n",
       "      <td>8.000000</td>\n",
       "      <td>7.000000</td>\n",
       "      <td>7.000000</td>\n",
       "      <td>6.000000</td>\n",
       "      <td>4.000000</td>\n",
       "      <td>14.000000</td>\n",
       "    </tr>\n",
       "    <tr>\n",
       "      <th>max</th>\n",
       "      <td>10.000000</td>\n",
       "      <td>10.000000</td>\n",
       "      <td>10.000000</td>\n",
       "      <td>10.000000</td>\n",
       "      <td>10.000000</td>\n",
       "      <td>9.000000</td>\n",
       "      <td>19.000000</td>\n",
       "    </tr>\n",
       "  </tbody>\n",
       "</table>\n",
       "</div>"
      ],
      "text/plain": [
       "       sewer_and_water         power  roads_and_bridges       medical  \\\n",
       "count     82899.000000  83070.000000       83070.000000  35629.000000   \n",
       "mean          5.649139      6.045371           5.743289      5.322687   \n",
       "std           2.787791      2.851951           2.506399      2.527679   \n",
       "min           0.000000      0.000000           0.000000      0.000000   \n",
       "25%           3.000000      4.000000           4.000000      4.000000   \n",
       "50%           6.000000      7.000000           6.000000      6.000000   \n",
       "75%           8.000000      8.000000           7.000000      7.000000   \n",
       "max          10.000000     10.000000          10.000000     10.000000   \n",
       "\n",
       "          buildings  shake_intensity      location  \n",
       "count  82900.000000     70926.000000  83070.000000  \n",
       "mean       4.744005         2.682641      8.978488  \n",
       "std        2.256358         1.935366      5.123608  \n",
       "min        0.000000         0.000000      1.000000  \n",
       "25%        3.000000         1.000000      4.000000  \n",
       "50%        5.000000         2.000000      8.000000  \n",
       "75%        6.000000         4.000000     14.000000  \n",
       "max       10.000000         9.000000     19.000000  "
      ]
     },
     "metadata": {},
     "output_type": "display_data"
    }
   ],
   "source": [
    "# Reading the RAW data file\n",
    "df = pd.read_csv(\"mc1-reports-data.csv\")\n",
    "display(df.head())\n",
    "display(df.describe())"
   ]
  },
  {
   "cell_type": "markdown",
   "metadata": {},
   "source": [
    "The **df.describe()** function does a priliminary analysis of all the data present in the csv file. This can be used to compare and analyze the information in the later stages. We can note that the the count of the data fields are not the same. Ideally, every entry will have some value, thus making the count for all the entries to be the same. Unqual count indicates some missing values. This can be sean in the **df.head()** output. Some values are 'NaN'. "
   ]
  },
  {
   "cell_type": "code",
   "execution_count": 3,
   "metadata": {},
   "outputs": [
    {
     "name": "stdout",
     "output_type": "stream",
     "text": [
      "Total Rows and Columns in the data Frame:  (83070, 8)\n",
      "\n",
      "Total number of missing Values\n"
     ]
    },
    {
     "data": {
      "text/plain": [
       "time                     0\n",
       "sewer_and_water        171\n",
       "power                    0\n",
       "roads_and_bridges        0\n",
       "medical              47441\n",
       "buildings              170\n",
       "shake_intensity      12144\n",
       "location                 0\n",
       "dtype: int64"
      ]
     },
     "execution_count": 3,
     "metadata": {},
     "output_type": "execute_result"
    }
   ],
   "source": [
    "print(\"Total Rows and Columns in the data Frame: \", df.shape)\n",
    "\n",
    "print(\"\\nTotal number of missing Values\")\n",
    "df.isnull().sum()\n"
   ]
  },
  {
   "cell_type": "markdown",
   "metadata": {},
   "source": [
    "Out of the 83070 entries, we can see that shake_intensity field has 12144 missing data. Similarly medical, buildings and the rest of the fields have certain amopunt of missing data. \n",
    "\n",
    "Let us start off by replacing all the 'NaN' values to zero"
   ]
  },
  {
   "cell_type": "code",
   "execution_count": 4,
   "metadata": {},
   "outputs": [
    {
     "data": {
      "text/html": [
       "<div>\n",
       "<style scoped>\n",
       "    .dataframe tbody tr th:only-of-type {\n",
       "        vertical-align: middle;\n",
       "    }\n",
       "\n",
       "    .dataframe tbody tr th {\n",
       "        vertical-align: top;\n",
       "    }\n",
       "\n",
       "    .dataframe thead th {\n",
       "        text-align: right;\n",
       "    }\n",
       "</style>\n",
       "<table border=\"1\" class=\"dataframe\">\n",
       "  <thead>\n",
       "    <tr style=\"text-align: right;\">\n",
       "      <th></th>\n",
       "      <th>time</th>\n",
       "      <th>sewer_and_water</th>\n",
       "      <th>power</th>\n",
       "      <th>roads_and_bridges</th>\n",
       "      <th>medical</th>\n",
       "      <th>buildings</th>\n",
       "      <th>shake_intensity</th>\n",
       "      <th>location</th>\n",
       "    </tr>\n",
       "  </thead>\n",
       "  <tbody>\n",
       "    <tr>\n",
       "      <th>0</th>\n",
       "      <td>2020-04-08 17:50:00</td>\n",
       "      <td>10.0</td>\n",
       "      <td>6.0</td>\n",
       "      <td>10.0</td>\n",
       "      <td>3.0</td>\n",
       "      <td>8.0</td>\n",
       "      <td>0.0</td>\n",
       "      <td>1</td>\n",
       "    </tr>\n",
       "    <tr>\n",
       "      <th>1</th>\n",
       "      <td>2020-04-09 13:50:00</td>\n",
       "      <td>2.0</td>\n",
       "      <td>10.0</td>\n",
       "      <td>0.0</td>\n",
       "      <td>8.0</td>\n",
       "      <td>4.0</td>\n",
       "      <td>0.0</td>\n",
       "      <td>1</td>\n",
       "    </tr>\n",
       "    <tr>\n",
       "      <th>2</th>\n",
       "      <td>2020-04-09 00:20:00</td>\n",
       "      <td>7.0</td>\n",
       "      <td>10.0</td>\n",
       "      <td>10.0</td>\n",
       "      <td>9.0</td>\n",
       "      <td>10.0</td>\n",
       "      <td>0.0</td>\n",
       "      <td>1</td>\n",
       "    </tr>\n",
       "    <tr>\n",
       "      <th>3</th>\n",
       "      <td>2020-04-08 17:25:00</td>\n",
       "      <td>1.0</td>\n",
       "      <td>1.0</td>\n",
       "      <td>2.0</td>\n",
       "      <td>10.0</td>\n",
       "      <td>7.0</td>\n",
       "      <td>0.0</td>\n",
       "      <td>1</td>\n",
       "    </tr>\n",
       "    <tr>\n",
       "      <th>4</th>\n",
       "      <td>2020-04-08 02:50:00</td>\n",
       "      <td>9.0</td>\n",
       "      <td>7.0</td>\n",
       "      <td>1.0</td>\n",
       "      <td>6.0</td>\n",
       "      <td>9.0</td>\n",
       "      <td>0.0</td>\n",
       "      <td>1</td>\n",
       "    </tr>\n",
       "  </tbody>\n",
       "</table>\n",
       "</div>"
      ],
      "text/plain": [
       "                  time  sewer_and_water  power  roads_and_bridges  medical  \\\n",
       "0  2020-04-08 17:50:00             10.0    6.0               10.0      3.0   \n",
       "1  2020-04-09 13:50:00              2.0   10.0                0.0      8.0   \n",
       "2  2020-04-09 00:20:00              7.0   10.0               10.0      9.0   \n",
       "3  2020-04-08 17:25:00              1.0    1.0                2.0     10.0   \n",
       "4  2020-04-08 02:50:00              9.0    7.0                1.0      6.0   \n",
       "\n",
       "   buildings  shake_intensity  location  \n",
       "0        8.0              0.0         1  \n",
       "1        4.0              0.0         1  \n",
       "2       10.0              0.0         1  \n",
       "3        7.0              0.0         1  \n",
       "4        9.0              0.0         1  "
      ]
     },
     "metadata": {},
     "output_type": "display_data"
    },
    {
     "name": "stdout",
     "output_type": "stream",
     "text": [
      "\n",
      "Total number of missing Values\n"
     ]
    },
    {
     "data": {
      "text/plain": [
       "time                 0\n",
       "sewer_and_water      0\n",
       "power                0\n",
       "roads_and_bridges    0\n",
       "medical              0\n",
       "buildings            0\n",
       "shake_intensity      0\n",
       "location             0\n",
       "dtype: int64"
      ]
     },
     "metadata": {},
     "output_type": "display_data"
    }
   ],
   "source": [
    "# Convert all column title into python list\n",
    "cols = df.columns.tolist()\n",
    "\n",
    "# replace 'NaN' in every cols entry\n",
    "for c in cols:\n",
    "    df[c].fillna(0.00, inplace=True)\n",
    "    \n",
    "display(df.head())\n",
    "print(\"\\nTotal number of missing Values\")\n",
    "display(df.isnull().sum())"
   ]
  },
  {
   "cell_type": "markdown",
   "metadata": {},
   "source": [
    "In the above cell, it can be observed that all the 'NaN' or the missing values have been replaced by zero.\n",
    "\n",
    "Next, we will split the 'time' field. The 'time' field has both data and time entered together. Splitting them up into different fileds"
   ]
  },
  {
   "cell_type": "code",
   "execution_count": 5,
   "metadata": {},
   "outputs": [],
   "source": [
    "# Split 'time' into 'Date' and 'Time' \n",
    "df['Date'] = pd.to_datetime(df['time']).dt.date\n",
    "df['Time'] = pd.to_datetime(df['time']).dt.time\n",
    "\n",
    "#display(df.head(5))\n",
    "\n",
    "# Drop the old 'time' column\n",
    "df.drop(columns = ['time'], inplace=True)\n",
    "\n",
    "#display(df.head(5))\n",
    "\n"
   ]
  },
  {
   "cell_type": "code",
   "execution_count": 6,
   "metadata": {},
   "outputs": [
    {
     "data": {
      "text/html": [
       "<div>\n",
       "<style scoped>\n",
       "    .dataframe tbody tr th:only-of-type {\n",
       "        vertical-align: middle;\n",
       "    }\n",
       "\n",
       "    .dataframe tbody tr th {\n",
       "        vertical-align: top;\n",
       "    }\n",
       "\n",
       "    .dataframe thead th {\n",
       "        text-align: right;\n",
       "    }\n",
       "</style>\n",
       "<table border=\"1\" class=\"dataframe\">\n",
       "  <thead>\n",
       "    <tr style=\"text-align: right;\">\n",
       "      <th></th>\n",
       "      <th>Date</th>\n",
       "      <th>Time</th>\n",
       "      <th>sewer_and_water</th>\n",
       "      <th>power</th>\n",
       "      <th>roads_and_bridges</th>\n",
       "      <th>medical</th>\n",
       "      <th>buildings</th>\n",
       "      <th>shake_intensity</th>\n",
       "      <th>location</th>\n",
       "    </tr>\n",
       "  </thead>\n",
       "  <tbody>\n",
       "    <tr>\n",
       "      <th>0</th>\n",
       "      <td>2020-04-08</td>\n",
       "      <td>17:50:00</td>\n",
       "      <td>10.0</td>\n",
       "      <td>6.0</td>\n",
       "      <td>10.0</td>\n",
       "      <td>3.0</td>\n",
       "      <td>8.0</td>\n",
       "      <td>0.0</td>\n",
       "      <td>1</td>\n",
       "    </tr>\n",
       "    <tr>\n",
       "      <th>1</th>\n",
       "      <td>2020-04-09</td>\n",
       "      <td>13:50:00</td>\n",
       "      <td>2.0</td>\n",
       "      <td>10.0</td>\n",
       "      <td>0.0</td>\n",
       "      <td>8.0</td>\n",
       "      <td>4.0</td>\n",
       "      <td>0.0</td>\n",
       "      <td>1</td>\n",
       "    </tr>\n",
       "    <tr>\n",
       "      <th>2</th>\n",
       "      <td>2020-04-09</td>\n",
       "      <td>00:20:00</td>\n",
       "      <td>7.0</td>\n",
       "      <td>10.0</td>\n",
       "      <td>10.0</td>\n",
       "      <td>9.0</td>\n",
       "      <td>10.0</td>\n",
       "      <td>0.0</td>\n",
       "      <td>1</td>\n",
       "    </tr>\n",
       "    <tr>\n",
       "      <th>3</th>\n",
       "      <td>2020-04-08</td>\n",
       "      <td>17:25:00</td>\n",
       "      <td>1.0</td>\n",
       "      <td>1.0</td>\n",
       "      <td>2.0</td>\n",
       "      <td>10.0</td>\n",
       "      <td>7.0</td>\n",
       "      <td>0.0</td>\n",
       "      <td>1</td>\n",
       "    </tr>\n",
       "    <tr>\n",
       "      <th>4</th>\n",
       "      <td>2020-04-08</td>\n",
       "      <td>02:50:00</td>\n",
       "      <td>9.0</td>\n",
       "      <td>7.0</td>\n",
       "      <td>1.0</td>\n",
       "      <td>6.0</td>\n",
       "      <td>9.0</td>\n",
       "      <td>0.0</td>\n",
       "      <td>1</td>\n",
       "    </tr>\n",
       "  </tbody>\n",
       "</table>\n",
       "</div>"
      ],
      "text/plain": [
       "         Date      Time  sewer_and_water  power  roads_and_bridges  medical  \\\n",
       "0  2020-04-08  17:50:00             10.0    6.0               10.0      3.0   \n",
       "1  2020-04-09  13:50:00              2.0   10.0                0.0      8.0   \n",
       "2  2020-04-09  00:20:00              7.0   10.0               10.0      9.0   \n",
       "3  2020-04-08  17:25:00              1.0    1.0                2.0     10.0   \n",
       "4  2020-04-08  02:50:00              9.0    7.0                1.0      6.0   \n",
       "\n",
       "   buildings  shake_intensity  location  \n",
       "0        8.0              0.0         1  \n",
       "1        4.0              0.0         1  \n",
       "2       10.0              0.0         1  \n",
       "3        7.0              0.0         1  \n",
       "4        9.0              0.0         1  "
      ]
     },
     "metadata": {},
     "output_type": "display_data"
    },
    {
     "data": {
      "text/html": [
       "<div>\n",
       "<style scoped>\n",
       "    .dataframe tbody tr th:only-of-type {\n",
       "        vertical-align: middle;\n",
       "    }\n",
       "\n",
       "    .dataframe tbody tr th {\n",
       "        vertical-align: top;\n",
       "    }\n",
       "\n",
       "    .dataframe thead th {\n",
       "        text-align: right;\n",
       "    }\n",
       "</style>\n",
       "<table border=\"1\" class=\"dataframe\">\n",
       "  <thead>\n",
       "    <tr style=\"text-align: right;\">\n",
       "      <th></th>\n",
       "      <th>Date</th>\n",
       "      <th>Time</th>\n",
       "      <th>sewer_and_water</th>\n",
       "      <th>power</th>\n",
       "      <th>roads_and_bridges</th>\n",
       "      <th>medical</th>\n",
       "      <th>buildings</th>\n",
       "      <th>shake_intensity</th>\n",
       "      <th>location</th>\n",
       "    </tr>\n",
       "  </thead>\n",
       "  <tbody>\n",
       "    <tr>\n",
       "      <th>83065</th>\n",
       "      <td>2020-04-10</td>\n",
       "      <td>02:30:00</td>\n",
       "      <td>9.0</td>\n",
       "      <td>10.0</td>\n",
       "      <td>10.0</td>\n",
       "      <td>0.0</td>\n",
       "      <td>7.0</td>\n",
       "      <td>2.0</td>\n",
       "      <td>8</td>\n",
       "    </tr>\n",
       "    <tr>\n",
       "      <th>83066</th>\n",
       "      <td>2020-04-10</td>\n",
       "      <td>02:30:00</td>\n",
       "      <td>8.0</td>\n",
       "      <td>10.0</td>\n",
       "      <td>10.0</td>\n",
       "      <td>0.0</td>\n",
       "      <td>7.0</td>\n",
       "      <td>1.0</td>\n",
       "      <td>8</td>\n",
       "    </tr>\n",
       "    <tr>\n",
       "      <th>83067</th>\n",
       "      <td>2020-04-09</td>\n",
       "      <td>16:45:00</td>\n",
       "      <td>10.0</td>\n",
       "      <td>9.0</td>\n",
       "      <td>10.0</td>\n",
       "      <td>0.0</td>\n",
       "      <td>8.0</td>\n",
       "      <td>1.0</td>\n",
       "      <td>8</td>\n",
       "    </tr>\n",
       "    <tr>\n",
       "      <th>83068</th>\n",
       "      <td>2020-04-09</td>\n",
       "      <td>16:55:00</td>\n",
       "      <td>8.0</td>\n",
       "      <td>8.0</td>\n",
       "      <td>9.0</td>\n",
       "      <td>0.0</td>\n",
       "      <td>7.0</td>\n",
       "      <td>0.0</td>\n",
       "      <td>8</td>\n",
       "    </tr>\n",
       "    <tr>\n",
       "      <th>83069</th>\n",
       "      <td>2020-04-10</td>\n",
       "      <td>02:30:00</td>\n",
       "      <td>9.0</td>\n",
       "      <td>10.0</td>\n",
       "      <td>10.0</td>\n",
       "      <td>0.0</td>\n",
       "      <td>6.0</td>\n",
       "      <td>-0.0</td>\n",
       "      <td>8</td>\n",
       "    </tr>\n",
       "  </tbody>\n",
       "</table>\n",
       "</div>"
      ],
      "text/plain": [
       "             Date      Time  sewer_and_water  power  roads_and_bridges  \\\n",
       "83065  2020-04-10  02:30:00              9.0   10.0               10.0   \n",
       "83066  2020-04-10  02:30:00              8.0   10.0               10.0   \n",
       "83067  2020-04-09  16:45:00             10.0    9.0               10.0   \n",
       "83068  2020-04-09  16:55:00              8.0    8.0                9.0   \n",
       "83069  2020-04-10  02:30:00              9.0   10.0               10.0   \n",
       "\n",
       "       medical  buildings  shake_intensity  location  \n",
       "83065      0.0        7.0              2.0         8  \n",
       "83066      0.0        7.0              1.0         8  \n",
       "83067      0.0        8.0              1.0         8  \n",
       "83068      0.0        7.0              0.0         8  \n",
       "83069      0.0        6.0             -0.0         8  "
      ]
     },
     "metadata": {},
     "output_type": "display_data"
    }
   ],
   "source": [
    "# Rearrage the columns\n",
    "\n",
    "# List of all remaining columns\n",
    "cols = df.columns.tolist()\n",
    "# Move the Last 2 columns to first\n",
    "cols = cols[-2:] + cols[:-2]\n",
    "df = df[cols]\n",
    "\n",
    "display(df.head())\n",
    "display(df.tail())"
   ]
  },
  {
   "cell_type": "markdown",
   "metadata": {},
   "source": [
    "Now that the data cleaned to a satisfactory degree, we will save it for further use. "
   ]
  },
  {
   "cell_type": "code",
   "execution_count": 7,
   "metadata": {},
   "outputs": [
    {
     "data": {
      "text/plain": [
       "0    17:50:00\n",
       "1    13:50:00\n",
       "2    00:20:00\n",
       "3    17:25:00\n",
       "4    02:50:00\n",
       "Name: Time, dtype: object"
      ]
     },
     "execution_count": 7,
     "metadata": {},
     "output_type": "execute_result"
    }
   ],
   "source": [
    "df['Time'].head()"
   ]
  },
  {
   "cell_type": "code",
   "execution_count": 8,
   "metadata": {},
   "outputs": [],
   "source": [
    "#Saving cleaned data set\n",
    "df.to_csv(\"MC1_Clean.csv\")"
   ]
  },
  {
   "cell_type": "markdown",
   "metadata": {},
   "source": [
    "\n",
    "# Extra codes used for convinience"
   ]
  },
  {
   "cell_type": "code",
   "execution_count": 9,
   "metadata": {},
   "outputs": [
    {
     "name": "stdout",
     "output_type": "stream",
     "text": [
      "[0.0, 1.0, 2.0, 3.0, 4.0, 5.0, 6.0, 7.0, 8.0, 9.0]\n"
     ]
    }
   ],
   "source": [
    "#Finding out all the different values in shake intensity column\n",
    "sh_int_uniq = df[cols[7]].unique()\n",
    "\n",
    "print( sorted(sh_int_uniq))"
   ]
  },
  {
   "cell_type": "code",
   "execution_count": 10,
   "metadata": {},
   "outputs": [
    {
     "name": "stdout",
     "output_type": "stream",
     "text": [
      "location\n",
      "[ 1  2  3  4  5  6  7  8  9 10 11 12 13 14 15 16 17 18 19]\n"
     ]
    }
   ],
   "source": [
    "print(cols[8])\n",
    "unique_loc = df[cols[8]].unique()\n",
    "print(unique_loc)"
   ]
  },
  {
   "cell_type": "code",
   "execution_count": 11,
   "metadata": {},
   "outputs": [
    {
     "name": "stderr",
     "output_type": "stream",
     "text": [
      "C:\\Users\\Vivek\\Anaconda3\\envs\\VAST\\lib\\site-packages\\ipykernel_launcher.py:2: UserWarning: Boolean Series key will be reindexed to match DataFrame index.\n",
      "  \n"
     ]
    }
   ],
   "source": [
    "loc7 = (df['location']==7)\n",
    "loc7_abs = df[loc7][df['medical']!=0]"
   ]
  },
  {
   "cell_type": "code",
   "execution_count": 12,
   "metadata": {},
   "outputs": [
    {
     "data": {
      "text/html": [
       "<div>\n",
       "<style scoped>\n",
       "    .dataframe tbody tr th:only-of-type {\n",
       "        vertical-align: middle;\n",
       "    }\n",
       "\n",
       "    .dataframe tbody tr th {\n",
       "        vertical-align: top;\n",
       "    }\n",
       "\n",
       "    .dataframe thead th {\n",
       "        text-align: right;\n",
       "    }\n",
       "</style>\n",
       "<table border=\"1\" class=\"dataframe\">\n",
       "  <thead>\n",
       "    <tr style=\"text-align: right;\">\n",
       "      <th></th>\n",
       "      <th>Date</th>\n",
       "      <th>Time</th>\n",
       "      <th>sewer_and_water</th>\n",
       "      <th>power</th>\n",
       "      <th>roads_and_bridges</th>\n",
       "      <th>medical</th>\n",
       "      <th>buildings</th>\n",
       "      <th>shake_intensity</th>\n",
       "      <th>location</th>\n",
       "    </tr>\n",
       "  </thead>\n",
       "  <tbody>\n",
       "    <tr>\n",
       "      <th>57351</th>\n",
       "      <td>2020-04-08</td>\n",
       "      <td>13:15:00</td>\n",
       "      <td>0.0</td>\n",
       "      <td>8.0</td>\n",
       "      <td>7.0</td>\n",
       "      <td>6.0</td>\n",
       "      <td>0.0</td>\n",
       "      <td>-0.0</td>\n",
       "      <td>7</td>\n",
       "    </tr>\n",
       "  </tbody>\n",
       "</table>\n",
       "</div>"
      ],
      "text/plain": [
       "             Date      Time  sewer_and_water  power  roads_and_bridges  \\\n",
       "57351  2020-04-08  13:15:00              0.0    8.0                7.0   \n",
       "\n",
       "       medical  buildings  shake_intensity  location  \n",
       "57351      6.0        0.0             -0.0         7  "
      ]
     },
     "execution_count": 12,
     "metadata": {},
     "output_type": "execute_result"
    }
   ],
   "source": [
    "loc7_abs.head()"
   ]
  },
  {
   "cell_type": "code",
   "execution_count": 13,
   "metadata": {},
   "outputs": [
    {
     "data": {
      "text/html": [
       "<div>\n",
       "<style scoped>\n",
       "    .dataframe tbody tr th:only-of-type {\n",
       "        vertical-align: middle;\n",
       "    }\n",
       "\n",
       "    .dataframe tbody tr th {\n",
       "        vertical-align: top;\n",
       "    }\n",
       "\n",
       "    .dataframe thead th {\n",
       "        text-align: right;\n",
       "    }\n",
       "</style>\n",
       "<table border=\"1\" class=\"dataframe\">\n",
       "  <thead>\n",
       "    <tr style=\"text-align: right;\">\n",
       "      <th></th>\n",
       "      <th>Date</th>\n",
       "      <th>Time</th>\n",
       "      <th>sewer_and_water</th>\n",
       "      <th>power</th>\n",
       "      <th>roads_and_bridges</th>\n",
       "      <th>medical</th>\n",
       "      <th>buildings</th>\n",
       "      <th>shake_intensity</th>\n",
       "      <th>location</th>\n",
       "    </tr>\n",
       "  </thead>\n",
       "  <tbody>\n",
       "    <tr>\n",
       "      <th>4295</th>\n",
       "      <td>2020-04-08</td>\n",
       "      <td>12:25:00</td>\n",
       "      <td>0.0</td>\n",
       "      <td>1.0</td>\n",
       "      <td>3.0</td>\n",
       "      <td>0.0</td>\n",
       "      <td>0.0</td>\n",
       "      <td>0.0</td>\n",
       "      <td>7</td>\n",
       "    </tr>\n",
       "    <tr>\n",
       "      <th>4296</th>\n",
       "      <td>2020-04-10</td>\n",
       "      <td>20:55:00</td>\n",
       "      <td>0.0</td>\n",
       "      <td>10.0</td>\n",
       "      <td>0.0</td>\n",
       "      <td>0.0</td>\n",
       "      <td>0.0</td>\n",
       "      <td>0.0</td>\n",
       "      <td>7</td>\n",
       "    </tr>\n",
       "    <tr>\n",
       "      <th>4297</th>\n",
       "      <td>2020-04-06</td>\n",
       "      <td>07:00:00</td>\n",
       "      <td>0.0</td>\n",
       "      <td>4.0</td>\n",
       "      <td>9.0</td>\n",
       "      <td>0.0</td>\n",
       "      <td>0.0</td>\n",
       "      <td>0.0</td>\n",
       "      <td>7</td>\n",
       "    </tr>\n",
       "    <tr>\n",
       "      <th>4298</th>\n",
       "      <td>2020-04-07</td>\n",
       "      <td>10:35:00</td>\n",
       "      <td>0.0</td>\n",
       "      <td>0.0</td>\n",
       "      <td>8.0</td>\n",
       "      <td>0.0</td>\n",
       "      <td>0.0</td>\n",
       "      <td>0.0</td>\n",
       "      <td>7</td>\n",
       "    </tr>\n",
       "    <tr>\n",
       "      <th>4299</th>\n",
       "      <td>2020-04-06</td>\n",
       "      <td>13:20:00</td>\n",
       "      <td>0.0</td>\n",
       "      <td>4.0</td>\n",
       "      <td>8.0</td>\n",
       "      <td>0.0</td>\n",
       "      <td>0.0</td>\n",
       "      <td>0.0</td>\n",
       "      <td>7</td>\n",
       "    </tr>\n",
       "  </tbody>\n",
       "</table>\n",
       "</div>"
      ],
      "text/plain": [
       "            Date      Time  sewer_and_water  power  roads_and_bridges  \\\n",
       "4295  2020-04-08  12:25:00              0.0    1.0                3.0   \n",
       "4296  2020-04-10  20:55:00              0.0   10.0                0.0   \n",
       "4297  2020-04-06  07:00:00              0.0    4.0                9.0   \n",
       "4298  2020-04-07  10:35:00              0.0    0.0                8.0   \n",
       "4299  2020-04-06  13:20:00              0.0    4.0                8.0   \n",
       "\n",
       "      medical  buildings  shake_intensity  location  \n",
       "4295      0.0        0.0              0.0         7  \n",
       "4296      0.0        0.0              0.0         7  \n",
       "4297      0.0        0.0              0.0         7  \n",
       "4298      0.0        0.0              0.0         7  \n",
       "4299      0.0        0.0              0.0         7  "
      ]
     },
     "execution_count": 13,
     "metadata": {},
     "output_type": "execute_result"
    }
   ],
   "source": [
    "df[loc7].head()"
   ]
  },
  {
   "cell_type": "code",
   "execution_count": 14,
   "metadata": {},
   "outputs": [
    {
     "data": {
      "text/plain": [
       "sewer_and_water      0.098266\n",
       "power                7.838150\n",
       "roads_and_bridges    5.919075\n",
       "medical              0.034682\n",
       "buildings            0.098266\n",
       "shake_intensity      4.421965\n",
       "location             7.000000\n",
       "dtype: float64"
      ]
     },
     "execution_count": 14,
     "metadata": {},
     "output_type": "execute_result"
    }
   ],
   "source": [
    "df[loc7].mean()"
   ]
  },
  {
   "cell_type": "code",
   "execution_count": 15,
   "metadata": {},
   "outputs": [
    {
     "data": {
      "text/html": [
       "<div>\n",
       "<style scoped>\n",
       "    .dataframe tbody tr th:only-of-type {\n",
       "        vertical-align: middle;\n",
       "    }\n",
       "\n",
       "    .dataframe tbody tr th {\n",
       "        vertical-align: top;\n",
       "    }\n",
       "\n",
       "    .dataframe thead th {\n",
       "        text-align: right;\n",
       "    }\n",
       "</style>\n",
       "<table border=\"1\" class=\"dataframe\">\n",
       "  <thead>\n",
       "    <tr style=\"text-align: right;\">\n",
       "      <th></th>\n",
       "      <th>sewer_and_water</th>\n",
       "      <th>power</th>\n",
       "      <th>roads_and_bridges</th>\n",
       "      <th>medical</th>\n",
       "      <th>buildings</th>\n",
       "      <th>shake_intensity</th>\n",
       "      <th>location</th>\n",
       "    </tr>\n",
       "  </thead>\n",
       "  <tbody>\n",
       "    <tr>\n",
       "      <th>count</th>\n",
       "      <td>1662.000000</td>\n",
       "      <td>1662.000000</td>\n",
       "      <td>1662.000000</td>\n",
       "      <td>1662.000000</td>\n",
       "      <td>1662.000000</td>\n",
       "      <td>1662.000000</td>\n",
       "      <td>1662.0</td>\n",
       "    </tr>\n",
       "    <tr>\n",
       "      <th>mean</th>\n",
       "      <td>4.740072</td>\n",
       "      <td>4.759326</td>\n",
       "      <td>4.867629</td>\n",
       "      <td>4.974729</td>\n",
       "      <td>4.904934</td>\n",
       "      <td>0.329723</td>\n",
       "      <td>1.0</td>\n",
       "    </tr>\n",
       "    <tr>\n",
       "      <th>std</th>\n",
       "      <td>3.159965</td>\n",
       "      <td>3.833197</td>\n",
       "      <td>2.029120</td>\n",
       "      <td>2.520827</td>\n",
       "      <td>3.251358</td>\n",
       "      <td>0.600678</td>\n",
       "      <td>0.0</td>\n",
       "    </tr>\n",
       "    <tr>\n",
       "      <th>min</th>\n",
       "      <td>0.000000</td>\n",
       "      <td>0.000000</td>\n",
       "      <td>0.000000</td>\n",
       "      <td>0.000000</td>\n",
       "      <td>0.000000</td>\n",
       "      <td>0.000000</td>\n",
       "      <td>1.0</td>\n",
       "    </tr>\n",
       "    <tr>\n",
       "      <th>25%</th>\n",
       "      <td>2.000000</td>\n",
       "      <td>1.000000</td>\n",
       "      <td>4.000000</td>\n",
       "      <td>3.000000</td>\n",
       "      <td>2.000000</td>\n",
       "      <td>-0.000000</td>\n",
       "      <td>1.0</td>\n",
       "    </tr>\n",
       "    <tr>\n",
       "      <th>50%</th>\n",
       "      <td>3.000000</td>\n",
       "      <td>3.000000</td>\n",
       "      <td>5.000000</td>\n",
       "      <td>4.000000</td>\n",
       "      <td>4.000000</td>\n",
       "      <td>0.000000</td>\n",
       "      <td>1.0</td>\n",
       "    </tr>\n",
       "    <tr>\n",
       "      <th>75%</th>\n",
       "      <td>8.000000</td>\n",
       "      <td>9.000000</td>\n",
       "      <td>6.000000</td>\n",
       "      <td>7.000000</td>\n",
       "      <td>8.000000</td>\n",
       "      <td>1.000000</td>\n",
       "      <td>1.0</td>\n",
       "    </tr>\n",
       "    <tr>\n",
       "      <th>max</th>\n",
       "      <td>10.000000</td>\n",
       "      <td>10.000000</td>\n",
       "      <td>10.000000</td>\n",
       "      <td>10.000000</td>\n",
       "      <td>10.000000</td>\n",
       "      <td>3.000000</td>\n",
       "      <td>1.0</td>\n",
       "    </tr>\n",
       "  </tbody>\n",
       "</table>\n",
       "</div>"
      ],
      "text/plain": [
       "       sewer_and_water        power  roads_and_bridges      medical  \\\n",
       "count      1662.000000  1662.000000        1662.000000  1662.000000   \n",
       "mean          4.740072     4.759326           4.867629     4.974729   \n",
       "std           3.159965     3.833197           2.029120     2.520827   \n",
       "min           0.000000     0.000000           0.000000     0.000000   \n",
       "25%           2.000000     1.000000           4.000000     3.000000   \n",
       "50%           3.000000     3.000000           5.000000     4.000000   \n",
       "75%           8.000000     9.000000           6.000000     7.000000   \n",
       "max          10.000000    10.000000          10.000000    10.000000   \n",
       "\n",
       "         buildings  shake_intensity  location  \n",
       "count  1662.000000      1662.000000    1662.0  \n",
       "mean      4.904934         0.329723       1.0  \n",
       "std       3.251358         0.600678       0.0  \n",
       "min       0.000000         0.000000       1.0  \n",
       "25%       2.000000        -0.000000       1.0  \n",
       "50%       4.000000         0.000000       1.0  \n",
       "75%       8.000000         1.000000       1.0  \n",
       "max      10.000000         3.000000       1.0  "
      ]
     },
     "execution_count": 15,
     "metadata": {},
     "output_type": "execute_result"
    }
   ],
   "source": [
    "loc1 = (df['location']==1)\n",
    "df[loc1].describe()"
   ]
  },
  {
   "cell_type": "code",
   "execution_count": 16,
   "metadata": {},
   "outputs": [
    {
     "name": "stderr",
     "output_type": "stream",
     "text": [
      "C:\\Users\\Vivek\\Anaconda3\\envs\\VAST\\lib\\site-packages\\ipykernel_launcher.py:2: UserWarning: Boolean Series key will be reindexed to match DataFrame index.\n",
      "  \n"
     ]
    },
    {
     "data": {
      "text/html": [
       "<div>\n",
       "<style scoped>\n",
       "    .dataframe tbody tr th:only-of-type {\n",
       "        vertical-align: middle;\n",
       "    }\n",
       "\n",
       "    .dataframe tbody tr th {\n",
       "        vertical-align: top;\n",
       "    }\n",
       "\n",
       "    .dataframe thead th {\n",
       "        text-align: right;\n",
       "    }\n",
       "</style>\n",
       "<table border=\"1\" class=\"dataframe\">\n",
       "  <thead>\n",
       "    <tr style=\"text-align: right;\">\n",
       "      <th></th>\n",
       "      <th>Date</th>\n",
       "      <th>Time</th>\n",
       "      <th>sewer_and_water</th>\n",
       "      <th>power</th>\n",
       "      <th>roads_and_bridges</th>\n",
       "      <th>medical</th>\n",
       "      <th>buildings</th>\n",
       "      <th>shake_intensity</th>\n",
       "      <th>location</th>\n",
       "    </tr>\n",
       "  </thead>\n",
       "  <tbody>\n",
       "    <tr>\n",
       "      <th>2419</th>\n",
       "      <td>2020-04-10</td>\n",
       "      <td>00:30:00</td>\n",
       "      <td>3.0</td>\n",
       "      <td>8.0</td>\n",
       "      <td>6.0</td>\n",
       "      <td>6.0</td>\n",
       "      <td>9.0</td>\n",
       "      <td>0.0</td>\n",
       "      <td>4</td>\n",
       "    </tr>\n",
       "    <tr>\n",
       "      <th>2443</th>\n",
       "      <td>2020-04-09</td>\n",
       "      <td>11:05:00</td>\n",
       "      <td>6.0</td>\n",
       "      <td>8.0</td>\n",
       "      <td>0.0</td>\n",
       "      <td>8.0</td>\n",
       "      <td>9.0</td>\n",
       "      <td>0.0</td>\n",
       "      <td>4</td>\n",
       "    </tr>\n",
       "    <tr>\n",
       "      <th>2464</th>\n",
       "      <td>2020-04-09</td>\n",
       "      <td>13:50:00</td>\n",
       "      <td>1.0</td>\n",
       "      <td>2.0</td>\n",
       "      <td>5.0</td>\n",
       "      <td>3.0</td>\n",
       "      <td>10.0</td>\n",
       "      <td>0.0</td>\n",
       "      <td>4</td>\n",
       "    </tr>\n",
       "    <tr>\n",
       "      <th>2496</th>\n",
       "      <td>2020-04-08</td>\n",
       "      <td>13:50:00</td>\n",
       "      <td>4.0</td>\n",
       "      <td>4.0</td>\n",
       "      <td>6.0</td>\n",
       "      <td>7.0</td>\n",
       "      <td>10.0</td>\n",
       "      <td>0.0</td>\n",
       "      <td>4</td>\n",
       "    </tr>\n",
       "    <tr>\n",
       "      <th>2501</th>\n",
       "      <td>2020-04-09</td>\n",
       "      <td>14:00:00</td>\n",
       "      <td>1.0</td>\n",
       "      <td>10.0</td>\n",
       "      <td>0.0</td>\n",
       "      <td>2.0</td>\n",
       "      <td>4.0</td>\n",
       "      <td>0.0</td>\n",
       "      <td>4</td>\n",
       "    </tr>\n",
       "  </tbody>\n",
       "</table>\n",
       "</div>"
      ],
      "text/plain": [
       "            Date      Time  sewer_and_water  power  roads_and_bridges  \\\n",
       "2419  2020-04-10  00:30:00              3.0    8.0                6.0   \n",
       "2443  2020-04-09  11:05:00              6.0    8.0                0.0   \n",
       "2464  2020-04-09  13:50:00              1.0    2.0                5.0   \n",
       "2496  2020-04-08  13:50:00              4.0    4.0                6.0   \n",
       "2501  2020-04-09  14:00:00              1.0   10.0                0.0   \n",
       "\n",
       "      medical  buildings  shake_intensity  location  \n",
       "2419      6.0        9.0              0.0         4  \n",
       "2443      8.0        9.0              0.0         4  \n",
       "2464      3.0       10.0              0.0         4  \n",
       "2496      7.0       10.0              0.0         4  \n",
       "2501      2.0        4.0              0.0         4  "
      ]
     },
     "execution_count": 16,
     "metadata": {},
     "output_type": "execute_result"
    }
   ],
   "source": [
    "loc4 = (df['location']==4)\n",
    "loc4_abs = df[loc4][df['medical']!=0]\n",
    "loc4_abs.head()"
   ]
  },
  {
   "cell_type": "code",
   "execution_count": 17,
   "metadata": {},
   "outputs": [
    {
     "data": {
      "text/plain": [
       "83070"
      ]
     },
     "execution_count": 17,
     "metadata": {},
     "output_type": "execute_result"
    }
   ],
   "source": [
    "len(loc4)"
   ]
  },
  {
   "cell_type": "code",
   "execution_count": 18,
   "metadata": {},
   "outputs": [
    {
     "data": {
      "text/plain": [
       "83021"
      ]
     },
     "execution_count": 18,
     "metadata": {},
     "output_type": "execute_result"
    }
   ],
   "source": [
    "len(loc4) - len(loc4_abs)"
   ]
  },
  {
   "cell_type": "code",
   "execution_count": 19,
   "metadata": {},
   "outputs": [
    {
     "data": {
      "text/plain": [
       "sewer_and_water      5.468654\n",
       "power                4.224049\n",
       "roads_and_bridges    4.213772\n",
       "medical              0.096608\n",
       "buildings            3.692018\n",
       "shake_intensity      4.263789\n",
       "location             4.000000\n",
       "dtype: float64"
      ]
     },
     "execution_count": 19,
     "metadata": {},
     "output_type": "execute_result"
    }
   ],
   "source": [
    "df[loc4].mean()"
   ]
  },
  {
   "cell_type": "code",
   "execution_count": 20,
   "metadata": {},
   "outputs": [
    {
     "data": {
      "text/plain": [
       "5.755102040816326"
      ]
     },
     "execution_count": 20,
     "metadata": {},
     "output_type": "execute_result"
    }
   ],
   "source": [
    "loc4_abs['medical'].mean()"
   ]
  },
  {
   "cell_type": "code",
   "execution_count": 21,
   "metadata": {},
   "outputs": [
    {
     "data": {
      "text/plain": [
       "pandas.core.series.Series"
      ]
     },
     "execution_count": 21,
     "metadata": {},
     "output_type": "execute_result"
    }
   ],
   "source": [
    "type(loc4)"
   ]
  },
  {
   "cell_type": "code",
   "execution_count": 22,
   "metadata": {},
   "outputs": [
    {
     "data": {
      "text/plain": [
       "pandas.core.frame.DataFrame"
      ]
     },
     "execution_count": 22,
     "metadata": {},
     "output_type": "execute_result"
    }
   ],
   "source": [
    "type(loc4_abs)"
   ]
  },
  {
   "cell_type": "code",
   "execution_count": 23,
   "metadata": {},
   "outputs": [],
   "source": [
    "# To print df in terminal without losing the format\n",
    "\n",
    "pd.set_option('expand_frame_repr', False)\n",
    "pd.set_option('display.max_columns', 999)"
   ]
  },
  {
   "cell_type": "code",
   "execution_count": 24,
   "metadata": {},
   "outputs": [
    {
     "data": {
      "text/html": [
       "<div>\n",
       "<style scoped>\n",
       "    .dataframe tbody tr th:only-of-type {\n",
       "        vertical-align: middle;\n",
       "    }\n",
       "\n",
       "    .dataframe tbody tr th {\n",
       "        vertical-align: top;\n",
       "    }\n",
       "\n",
       "    .dataframe thead th {\n",
       "        text-align: right;\n",
       "    }\n",
       "</style>\n",
       "<table border=\"1\" class=\"dataframe\">\n",
       "  <thead>\n",
       "    <tr style=\"text-align: right;\">\n",
       "      <th></th>\n",
       "      <th>Date</th>\n",
       "      <th>Time</th>\n",
       "      <th>sewer_and_water</th>\n",
       "      <th>power</th>\n",
       "      <th>roads_and_bridges</th>\n",
       "      <th>medical</th>\n",
       "      <th>buildings</th>\n",
       "      <th>shake_intensity</th>\n",
       "      <th>location</th>\n",
       "    </tr>\n",
       "  </thead>\n",
       "  <tbody>\n",
       "    <tr>\n",
       "      <th>0</th>\n",
       "      <td>2020-04-08</td>\n",
       "      <td>17:50:00</td>\n",
       "      <td>10.0</td>\n",
       "      <td>6.0</td>\n",
       "      <td>10.0</td>\n",
       "      <td>3.0</td>\n",
       "      <td>8.0</td>\n",
       "      <td>0.0</td>\n",
       "      <td>1</td>\n",
       "    </tr>\n",
       "    <tr>\n",
       "      <th>1</th>\n",
       "      <td>2020-04-09</td>\n",
       "      <td>13:50:00</td>\n",
       "      <td>2.0</td>\n",
       "      <td>10.0</td>\n",
       "      <td>0.0</td>\n",
       "      <td>8.0</td>\n",
       "      <td>4.0</td>\n",
       "      <td>0.0</td>\n",
       "      <td>1</td>\n",
       "    </tr>\n",
       "    <tr>\n",
       "      <th>2</th>\n",
       "      <td>2020-04-09</td>\n",
       "      <td>00:20:00</td>\n",
       "      <td>7.0</td>\n",
       "      <td>10.0</td>\n",
       "      <td>10.0</td>\n",
       "      <td>9.0</td>\n",
       "      <td>10.0</td>\n",
       "      <td>0.0</td>\n",
       "      <td>1</td>\n",
       "    </tr>\n",
       "    <tr>\n",
       "      <th>3</th>\n",
       "      <td>2020-04-08</td>\n",
       "      <td>17:25:00</td>\n",
       "      <td>1.0</td>\n",
       "      <td>1.0</td>\n",
       "      <td>2.0</td>\n",
       "      <td>10.0</td>\n",
       "      <td>7.0</td>\n",
       "      <td>0.0</td>\n",
       "      <td>1</td>\n",
       "    </tr>\n",
       "    <tr>\n",
       "      <th>4</th>\n",
       "      <td>2020-04-08</td>\n",
       "      <td>02:50:00</td>\n",
       "      <td>9.0</td>\n",
       "      <td>7.0</td>\n",
       "      <td>1.0</td>\n",
       "      <td>6.0</td>\n",
       "      <td>9.0</td>\n",
       "      <td>0.0</td>\n",
       "      <td>1</td>\n",
       "    </tr>\n",
       "  </tbody>\n",
       "</table>\n",
       "</div>"
      ],
      "text/plain": [
       "         Date      Time  sewer_and_water  power  roads_and_bridges  medical  buildings  shake_intensity  location\n",
       "0  2020-04-08  17:50:00             10.0    6.0               10.0      3.0        8.0              0.0         1\n",
       "1  2020-04-09  13:50:00              2.0   10.0                0.0      8.0        4.0              0.0         1\n",
       "2  2020-04-09  00:20:00              7.0   10.0               10.0      9.0       10.0              0.0         1\n",
       "3  2020-04-08  17:25:00              1.0    1.0                2.0     10.0        7.0              0.0         1\n",
       "4  2020-04-08  02:50:00              9.0    7.0                1.0      6.0        9.0              0.0         1"
      ]
     },
     "execution_count": 24,
     "metadata": {},
     "output_type": "execute_result"
    }
   ],
   "source": [
    "df.head()"
   ]
  },
  {
   "cell_type": "code",
   "execution_count": 28,
   "metadata": {},
   "outputs": [
    {
     "data": {
      "text/plain": [
       "Date                  object\n",
       "Time                  object\n",
       "sewer_and_water      float64\n",
       "power                float64\n",
       "roads_and_bridges    float64\n",
       "medical              float64\n",
       "buildings            float64\n",
       "shake_intensity      float64\n",
       "location               int64\n",
       "dtype: object"
      ]
     },
     "execution_count": 28,
     "metadata": {},
     "output_type": "execute_result"
    }
   ],
   "source": [
    "df.dtypes"
   ]
  },
  {
   "cell_type": "code",
   "execution_count": 29,
   "metadata": {},
   "outputs": [
    {
     "data": {
      "text/plain": [
       "0        2020-04-08\n",
       "1        2020-04-09\n",
       "2        2020-04-09\n",
       "3        2020-04-08\n",
       "4        2020-04-08\n",
       "5        2020-04-09\n",
       "6        2020-04-08\n",
       "7        2020-04-10\n",
       "8        2020-04-10\n",
       "9        2020-04-07\n",
       "10       2020-04-09\n",
       "11       2020-04-08\n",
       "12       2020-04-08\n",
       "13       2020-04-10\n",
       "14       2020-04-06\n",
       "15       2020-04-06\n",
       "16       2020-04-06\n",
       "17       2020-04-10\n",
       "18       2020-04-09\n",
       "19       2020-04-10\n",
       "20       2020-04-10\n",
       "21       2020-04-09\n",
       "22       2020-04-08\n",
       "23       2020-04-09\n",
       "24       2020-04-06\n",
       "25       2020-04-09\n",
       "26       2020-04-06\n",
       "27       2020-04-10\n",
       "28       2020-04-08\n",
       "29       2020-04-08\n",
       "            ...    \n",
       "83040    2020-04-10\n",
       "83041    2020-04-09\n",
       "83042    2020-04-09\n",
       "83043    2020-04-10\n",
       "83044    2020-04-09\n",
       "83045    2020-04-09\n",
       "83046    2020-04-09\n",
       "83047    2020-04-10\n",
       "83048    2020-04-09\n",
       "83049    2020-04-10\n",
       "83050    2020-04-09\n",
       "83051    2020-04-10\n",
       "83052    2020-04-09\n",
       "83053    2020-04-10\n",
       "83054    2020-04-09\n",
       "83055    2020-04-09\n",
       "83056    2020-04-09\n",
       "83057    2020-04-09\n",
       "83058    2020-04-09\n",
       "83059    2020-04-09\n",
       "83060    2020-04-10\n",
       "83061    2020-04-10\n",
       "83062    2020-04-09\n",
       "83063    2020-04-10\n",
       "83064    2020-04-09\n",
       "83065    2020-04-10\n",
       "83066    2020-04-10\n",
       "83067    2020-04-09\n",
       "83068    2020-04-09\n",
       "83069    2020-04-10\n",
       "Name: Date, Length: 83070, dtype: object"
      ]
     },
     "execution_count": 29,
     "metadata": {},
     "output_type": "execute_result"
    }
   ],
   "source": [
    "df['Date']"
   ]
  },
  {
   "cell_type": "code",
   "execution_count": null,
   "metadata": {},
   "outputs": [],
   "source": []
  }
 ],
 "metadata": {
  "kernelspec": {
   "display_name": "Python 3",
   "language": "python",
   "name": "python3"
  },
  "language_info": {
   "codemirror_mode": {
    "name": "ipython",
    "version": 3
   },
   "file_extension": ".py",
   "mimetype": "text/x-python",
   "name": "python",
   "nbconvert_exporter": "python",
   "pygments_lexer": "ipython3",
   "version": "3.7.3"
  }
 },
 "nbformat": 4,
 "nbformat_minor": 2
}
