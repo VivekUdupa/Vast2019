{
 "cells": [
  {
   "cell_type": "markdown",
   "metadata": {},
   "source": [
    "# VAST Challenge 2019: Disaster at St. Himark!\n",
    "\n",
    "St. Himark is a beautiful community located at the Ocenaus sea. It is a small community with almost everything it needs to sustain a spirited civilization. St. Himark is primarily powered by the Always Safe Nuclear Power Plant. This was true until the disaster struck. Now, Mayor Jordan, city officials, and emergency services are overwhelmed and are desperate for assistance in understanding the true situation on the ground and how best to deploy the limited resources available to this relatively small community.\n",
    "\n",
    "## Mini-Challenge 1\n",
    "\n",
    "In a prescient move of community engagement, the city had released a new damage reporting mobile application, 'RUMBLE', that allows citizens to report damages that they see in their neighborhood. \n",
    "The challenge is to use app responses in conjunction with shake maps of the earthquake strength to identify areas of concern and advise emergency planners respond to damages more efficiently. \n",
    "\n",
    "### Data Description\n",
    "The data for MC1 is included in the 'mc1-reports-data.csv' CSV file that spans over the entire length of the event. It is consisted of categorical reports of shaking/damage to the neighborhood over time. \n",
    "\n",
    "#### Data Fields:\n",
    "* Time: Timestamp of incoming reports. Format: YYYY-MM-DD hh:mm:ss\n",
    "* Location: Neighborhood id, 1 through 19, representing different cities in St. Himark, where damage is reported.\n",
    "* Shake_intensity, Sewer&Water, Power, Roads&Bridges, Medical, Buildings: Reported damage extent. 0 -> lowest, 10 -> highest\n",
    "\n",
    "_Missing data is allowed_\n",
    "\n",
    "### Data Cleaning\n",
    "Since the given csv file has certain missing files and other irregularities, the data must be cleaned for the ease of visualization and analysis. Python Pandas to the rescue! Using Python Pandas, the data is re-structured to achieve optimum visualization and analysis. \n"
   ]
  },
  {
   "cell_type": "code",
   "execution_count": 101,
   "metadata": {},
   "outputs": [
    {
     "name": "stdout",
     "output_type": "stream",
     "text": [
      "Import Success!\n"
     ]
    }
   ],
   "source": [
    "# Import all necessary packages\n",
    "\n",
    "import numpy as np\n",
    "import pandas as pd\n",
    "import math\n",
    "\n",
    "print(\"Import Success!\")"
   ]
  },
  {
   "cell_type": "markdown",
   "metadata": {},
   "source": [
    "Once the required packages are imported successfully, the next step is to read the csv file. This task is simplified thanks to pandas. **pd.read_csv** reads the csv file into a panda data frame. \n",
    "\n",
    "The **df.head()** function is used to see the first 5 entries in the data frame, making sure that the data was read correctly. "
   ]
  },
  {
   "cell_type": "code",
   "execution_count": 102,
   "metadata": {},
   "outputs": [
    {
     "data": {
      "text/html": [
       "<div>\n",
       "<style scoped>\n",
       "    .dataframe tbody tr th:only-of-type {\n",
       "        vertical-align: middle;\n",
       "    }\n",
       "\n",
       "    .dataframe tbody tr th {\n",
       "        vertical-align: top;\n",
       "    }\n",
       "\n",
       "    .dataframe thead th {\n",
       "        text-align: right;\n",
       "    }\n",
       "</style>\n",
       "<table border=\"1\" class=\"dataframe\">\n",
       "  <thead>\n",
       "    <tr style=\"text-align: right;\">\n",
       "      <th></th>\n",
       "      <th>time</th>\n",
       "      <th>sewer_and_water</th>\n",
       "      <th>power</th>\n",
       "      <th>roads_and_bridges</th>\n",
       "      <th>medical</th>\n",
       "      <th>buildings</th>\n",
       "      <th>shake_intensity</th>\n",
       "      <th>location</th>\n",
       "    </tr>\n",
       "  </thead>\n",
       "  <tbody>\n",
       "    <tr>\n",
       "      <th>0</th>\n",
       "      <td>2020-04-08 17:50:00</td>\n",
       "      <td>10.0</td>\n",
       "      <td>6.0</td>\n",
       "      <td>10.0</td>\n",
       "      <td>3.0</td>\n",
       "      <td>8.0</td>\n",
       "      <td>NaN</td>\n",
       "      <td>1</td>\n",
       "    </tr>\n",
       "    <tr>\n",
       "      <th>1</th>\n",
       "      <td>2020-04-09 13:50:00</td>\n",
       "      <td>2.0</td>\n",
       "      <td>10.0</td>\n",
       "      <td>0.0</td>\n",
       "      <td>8.0</td>\n",
       "      <td>4.0</td>\n",
       "      <td>0.0</td>\n",
       "      <td>1</td>\n",
       "    </tr>\n",
       "    <tr>\n",
       "      <th>2</th>\n",
       "      <td>2020-04-09 00:20:00</td>\n",
       "      <td>7.0</td>\n",
       "      <td>10.0</td>\n",
       "      <td>10.0</td>\n",
       "      <td>9.0</td>\n",
       "      <td>10.0</td>\n",
       "      <td>0.0</td>\n",
       "      <td>1</td>\n",
       "    </tr>\n",
       "    <tr>\n",
       "      <th>3</th>\n",
       "      <td>2020-04-08 17:25:00</td>\n",
       "      <td>1.0</td>\n",
       "      <td>1.0</td>\n",
       "      <td>2.0</td>\n",
       "      <td>10.0</td>\n",
       "      <td>7.0</td>\n",
       "      <td>NaN</td>\n",
       "      <td>1</td>\n",
       "    </tr>\n",
       "    <tr>\n",
       "      <th>4</th>\n",
       "      <td>2020-04-08 02:50:00</td>\n",
       "      <td>9.0</td>\n",
       "      <td>7.0</td>\n",
       "      <td>1.0</td>\n",
       "      <td>6.0</td>\n",
       "      <td>9.0</td>\n",
       "      <td>NaN</td>\n",
       "      <td>1</td>\n",
       "    </tr>\n",
       "  </tbody>\n",
       "</table>\n",
       "</div>"
      ],
      "text/plain": [
       "                  time  sewer_and_water  power  roads_and_bridges  medical  \\\n",
       "0  2020-04-08 17:50:00             10.0    6.0               10.0      3.0   \n",
       "1  2020-04-09 13:50:00              2.0   10.0                0.0      8.0   \n",
       "2  2020-04-09 00:20:00              7.0   10.0               10.0      9.0   \n",
       "3  2020-04-08 17:25:00              1.0    1.0                2.0     10.0   \n",
       "4  2020-04-08 02:50:00              9.0    7.0                1.0      6.0   \n",
       "\n",
       "   buildings  shake_intensity  location  \n",
       "0        8.0              NaN         1  \n",
       "1        4.0              0.0         1  \n",
       "2       10.0              0.0         1  \n",
       "3        7.0              NaN         1  \n",
       "4        9.0              NaN         1  "
      ]
     },
     "metadata": {},
     "output_type": "display_data"
    },
    {
     "data": {
      "text/html": [
       "<div>\n",
       "<style scoped>\n",
       "    .dataframe tbody tr th:only-of-type {\n",
       "        vertical-align: middle;\n",
       "    }\n",
       "\n",
       "    .dataframe tbody tr th {\n",
       "        vertical-align: top;\n",
       "    }\n",
       "\n",
       "    .dataframe thead th {\n",
       "        text-align: right;\n",
       "    }\n",
       "</style>\n",
       "<table border=\"1\" class=\"dataframe\">\n",
       "  <thead>\n",
       "    <tr style=\"text-align: right;\">\n",
       "      <th></th>\n",
       "      <th>sewer_and_water</th>\n",
       "      <th>power</th>\n",
       "      <th>roads_and_bridges</th>\n",
       "      <th>medical</th>\n",
       "      <th>buildings</th>\n",
       "      <th>shake_intensity</th>\n",
       "      <th>location</th>\n",
       "    </tr>\n",
       "  </thead>\n",
       "  <tbody>\n",
       "    <tr>\n",
       "      <th>count</th>\n",
       "      <td>82899.000000</td>\n",
       "      <td>83070.000000</td>\n",
       "      <td>83070.000000</td>\n",
       "      <td>35629.000000</td>\n",
       "      <td>82900.000000</td>\n",
       "      <td>70926.000000</td>\n",
       "      <td>83070.000000</td>\n",
       "    </tr>\n",
       "    <tr>\n",
       "      <th>mean</th>\n",
       "      <td>5.649139</td>\n",
       "      <td>6.045371</td>\n",
       "      <td>5.743289</td>\n",
       "      <td>5.322687</td>\n",
       "      <td>4.744005</td>\n",
       "      <td>2.682641</td>\n",
       "      <td>8.978488</td>\n",
       "    </tr>\n",
       "    <tr>\n",
       "      <th>std</th>\n",
       "      <td>2.787791</td>\n",
       "      <td>2.851951</td>\n",
       "      <td>2.506399</td>\n",
       "      <td>2.527679</td>\n",
       "      <td>2.256358</td>\n",
       "      <td>1.935366</td>\n",
       "      <td>5.123608</td>\n",
       "    </tr>\n",
       "    <tr>\n",
       "      <th>min</th>\n",
       "      <td>0.000000</td>\n",
       "      <td>0.000000</td>\n",
       "      <td>0.000000</td>\n",
       "      <td>0.000000</td>\n",
       "      <td>0.000000</td>\n",
       "      <td>0.000000</td>\n",
       "      <td>1.000000</td>\n",
       "    </tr>\n",
       "    <tr>\n",
       "      <th>25%</th>\n",
       "      <td>3.000000</td>\n",
       "      <td>4.000000</td>\n",
       "      <td>4.000000</td>\n",
       "      <td>4.000000</td>\n",
       "      <td>3.000000</td>\n",
       "      <td>1.000000</td>\n",
       "      <td>4.000000</td>\n",
       "    </tr>\n",
       "    <tr>\n",
       "      <th>50%</th>\n",
       "      <td>6.000000</td>\n",
       "      <td>7.000000</td>\n",
       "      <td>6.000000</td>\n",
       "      <td>6.000000</td>\n",
       "      <td>5.000000</td>\n",
       "      <td>2.000000</td>\n",
       "      <td>8.000000</td>\n",
       "    </tr>\n",
       "    <tr>\n",
       "      <th>75%</th>\n",
       "      <td>8.000000</td>\n",
       "      <td>8.000000</td>\n",
       "      <td>7.000000</td>\n",
       "      <td>7.000000</td>\n",
       "      <td>6.000000</td>\n",
       "      <td>4.000000</td>\n",
       "      <td>14.000000</td>\n",
       "    </tr>\n",
       "    <tr>\n",
       "      <th>max</th>\n",
       "      <td>10.000000</td>\n",
       "      <td>10.000000</td>\n",
       "      <td>10.000000</td>\n",
       "      <td>10.000000</td>\n",
       "      <td>10.000000</td>\n",
       "      <td>9.000000</td>\n",
       "      <td>19.000000</td>\n",
       "    </tr>\n",
       "  </tbody>\n",
       "</table>\n",
       "</div>"
      ],
      "text/plain": [
       "       sewer_and_water         power  roads_and_bridges       medical  \\\n",
       "count     82899.000000  83070.000000       83070.000000  35629.000000   \n",
       "mean          5.649139      6.045371           5.743289      5.322687   \n",
       "std           2.787791      2.851951           2.506399      2.527679   \n",
       "min           0.000000      0.000000           0.000000      0.000000   \n",
       "25%           3.000000      4.000000           4.000000      4.000000   \n",
       "50%           6.000000      7.000000           6.000000      6.000000   \n",
       "75%           8.000000      8.000000           7.000000      7.000000   \n",
       "max          10.000000     10.000000          10.000000     10.000000   \n",
       "\n",
       "          buildings  shake_intensity      location  \n",
       "count  82900.000000     70926.000000  83070.000000  \n",
       "mean       4.744005         2.682641      8.978488  \n",
       "std        2.256358         1.935366      5.123608  \n",
       "min        0.000000         0.000000      1.000000  \n",
       "25%        3.000000         1.000000      4.000000  \n",
       "50%        5.000000         2.000000      8.000000  \n",
       "75%        6.000000         4.000000     14.000000  \n",
       "max       10.000000         9.000000     19.000000  "
      ]
     },
     "metadata": {},
     "output_type": "display_data"
    }
   ],
   "source": [
    "# Reading the RAW data file\n",
    "df = pd.read_csv(\"mc1-reports-data.csv\")\n",
    "df_avg = df.copy() # To replace NaN's with Average\n",
    "display(df.head())\n",
    "display(df.describe())"
   ]
  },
  {
   "cell_type": "code",
   "execution_count": 103,
   "metadata": {},
   "outputs": [
    {
     "data": {
      "text/html": [
       "<div>\n",
       "<style scoped>\n",
       "    .dataframe tbody tr th:only-of-type {\n",
       "        vertical-align: middle;\n",
       "    }\n",
       "\n",
       "    .dataframe tbody tr th {\n",
       "        vertical-align: top;\n",
       "    }\n",
       "\n",
       "    .dataframe thead th {\n",
       "        text-align: right;\n",
       "    }\n",
       "</style>\n",
       "<table border=\"1\" class=\"dataframe\">\n",
       "  <thead>\n",
       "    <tr style=\"text-align: right;\">\n",
       "      <th></th>\n",
       "      <th>time</th>\n",
       "      <th>sewer_and_water</th>\n",
       "      <th>power</th>\n",
       "      <th>roads_and_bridges</th>\n",
       "      <th>medical</th>\n",
       "      <th>buildings</th>\n",
       "      <th>shake_intensity</th>\n",
       "      <th>location</th>\n",
       "      <th>index</th>\n",
       "    </tr>\n",
       "  </thead>\n",
       "  <tbody>\n",
       "    <tr>\n",
       "      <th>0</th>\n",
       "      <td>2020-04-08 17:50:00</td>\n",
       "      <td>10.0</td>\n",
       "      <td>6.0</td>\n",
       "      <td>10.0</td>\n",
       "      <td>3.0</td>\n",
       "      <td>8.0</td>\n",
       "      <td>NaN</td>\n",
       "      <td>1</td>\n",
       "      <td>0</td>\n",
       "    </tr>\n",
       "    <tr>\n",
       "      <th>1</th>\n",
       "      <td>2020-04-09 13:50:00</td>\n",
       "      <td>2.0</td>\n",
       "      <td>10.0</td>\n",
       "      <td>0.0</td>\n",
       "      <td>8.0</td>\n",
       "      <td>4.0</td>\n",
       "      <td>0.0</td>\n",
       "      <td>1</td>\n",
       "      <td>1</td>\n",
       "    </tr>\n",
       "    <tr>\n",
       "      <th>2</th>\n",
       "      <td>2020-04-09 00:20:00</td>\n",
       "      <td>7.0</td>\n",
       "      <td>10.0</td>\n",
       "      <td>10.0</td>\n",
       "      <td>9.0</td>\n",
       "      <td>10.0</td>\n",
       "      <td>0.0</td>\n",
       "      <td>1</td>\n",
       "      <td>2</td>\n",
       "    </tr>\n",
       "    <tr>\n",
       "      <th>3</th>\n",
       "      <td>2020-04-08 17:25:00</td>\n",
       "      <td>1.0</td>\n",
       "      <td>1.0</td>\n",
       "      <td>2.0</td>\n",
       "      <td>10.0</td>\n",
       "      <td>7.0</td>\n",
       "      <td>NaN</td>\n",
       "      <td>1</td>\n",
       "      <td>3</td>\n",
       "    </tr>\n",
       "    <tr>\n",
       "      <th>4</th>\n",
       "      <td>2020-04-08 02:50:00</td>\n",
       "      <td>9.0</td>\n",
       "      <td>7.0</td>\n",
       "      <td>1.0</td>\n",
       "      <td>6.0</td>\n",
       "      <td>9.0</td>\n",
       "      <td>NaN</td>\n",
       "      <td>1</td>\n",
       "      <td>4</td>\n",
       "    </tr>\n",
       "  </tbody>\n",
       "</table>\n",
       "</div>"
      ],
      "text/plain": [
       "                  time  sewer_and_water  power  roads_and_bridges  medical  \\\n",
       "0  2020-04-08 17:50:00             10.0    6.0               10.0      3.0   \n",
       "1  2020-04-09 13:50:00              2.0   10.0                0.0      8.0   \n",
       "2  2020-04-09 00:20:00              7.0   10.0               10.0      9.0   \n",
       "3  2020-04-08 17:25:00              1.0    1.0                2.0     10.0   \n",
       "4  2020-04-08 02:50:00              9.0    7.0                1.0      6.0   \n",
       "\n",
       "   buildings  shake_intensity  location  index  \n",
       "0        8.0              NaN         1      0  \n",
       "1        4.0              0.0         1      1  \n",
       "2       10.0              0.0         1      2  \n",
       "3        7.0              NaN         1      3  \n",
       "4        9.0              NaN         1      4  "
      ]
     },
     "execution_count": 103,
     "metadata": {},
     "output_type": "execute_result"
    }
   ],
   "source": [
    "# Indexing a data frame\n",
    "\n",
    "df_avg[\"index\"] = df.index\n",
    "df_avg.head()"
   ]
  },
  {
   "cell_type": "markdown",
   "metadata": {},
   "source": [
    "The **df.describe()** function does a priliminary analysis of all the data present in the csv file. This can be used to compare and analyze the information in the later stages. We can note that the the count of the data fields are not the same. Ideally, every entry will have some value, thus making the count for all the entries to be the same. Unqual count indicates some missing values. This can be sean in the **df.head()** output. Some values are 'NaN'. "
   ]
  },
  {
   "cell_type": "code",
   "execution_count": 104,
   "metadata": {},
   "outputs": [
    {
     "name": "stdout",
     "output_type": "stream",
     "text": [
      "Total Rows and Columns in the data Frame:  (83070, 8)\n",
      "\n",
      "Total number of missing Values\n"
     ]
    },
    {
     "data": {
      "text/plain": [
       "time                     0\n",
       "sewer_and_water        171\n",
       "power                    0\n",
       "roads_and_bridges        0\n",
       "medical              47441\n",
       "buildings              170\n",
       "shake_intensity      12144\n",
       "location                 0\n",
       "dtype: int64"
      ]
     },
     "execution_count": 104,
     "metadata": {},
     "output_type": "execute_result"
    }
   ],
   "source": [
    "print(\"Total Rows and Columns in the data Frame: \", df.shape)\n",
    "\n",
    "print(\"\\nTotal number of missing Values\")\n",
    "df.isnull().sum()\n"
   ]
  },
  {
   "cell_type": "markdown",
   "metadata": {},
   "source": [
    "Out of the 83070 entries, we can see that shake_intensity field has 12144 missing data. Similarly medical, buildings and the rest of the fields have certain amopunt of missing data. \n",
    "\n",
    "Let us start off by replacing all the 'NaN' values to zero"
   ]
  },
  {
   "cell_type": "code",
   "execution_count": 105,
   "metadata": {},
   "outputs": [
    {
     "data": {
      "text/html": [
       "<div>\n",
       "<style scoped>\n",
       "    .dataframe tbody tr th:only-of-type {\n",
       "        vertical-align: middle;\n",
       "    }\n",
       "\n",
       "    .dataframe tbody tr th {\n",
       "        vertical-align: top;\n",
       "    }\n",
       "\n",
       "    .dataframe thead th {\n",
       "        text-align: right;\n",
       "    }\n",
       "</style>\n",
       "<table border=\"1\" class=\"dataframe\">\n",
       "  <thead>\n",
       "    <tr style=\"text-align: right;\">\n",
       "      <th></th>\n",
       "      <th>time</th>\n",
       "      <th>sewer_and_water</th>\n",
       "      <th>power</th>\n",
       "      <th>roads_and_bridges</th>\n",
       "      <th>medical</th>\n",
       "      <th>buildings</th>\n",
       "      <th>shake_intensity</th>\n",
       "      <th>location</th>\n",
       "    </tr>\n",
       "  </thead>\n",
       "  <tbody>\n",
       "    <tr>\n",
       "      <th>0</th>\n",
       "      <td>2020-04-08 17:50:00</td>\n",
       "      <td>10.0</td>\n",
       "      <td>6.0</td>\n",
       "      <td>10.0</td>\n",
       "      <td>3.0</td>\n",
       "      <td>8.0</td>\n",
       "      <td>0.0</td>\n",
       "      <td>1</td>\n",
       "    </tr>\n",
       "    <tr>\n",
       "      <th>1</th>\n",
       "      <td>2020-04-09 13:50:00</td>\n",
       "      <td>2.0</td>\n",
       "      <td>10.0</td>\n",
       "      <td>0.0</td>\n",
       "      <td>8.0</td>\n",
       "      <td>4.0</td>\n",
       "      <td>0.0</td>\n",
       "      <td>1</td>\n",
       "    </tr>\n",
       "    <tr>\n",
       "      <th>2</th>\n",
       "      <td>2020-04-09 00:20:00</td>\n",
       "      <td>7.0</td>\n",
       "      <td>10.0</td>\n",
       "      <td>10.0</td>\n",
       "      <td>9.0</td>\n",
       "      <td>10.0</td>\n",
       "      <td>0.0</td>\n",
       "      <td>1</td>\n",
       "    </tr>\n",
       "    <tr>\n",
       "      <th>3</th>\n",
       "      <td>2020-04-08 17:25:00</td>\n",
       "      <td>1.0</td>\n",
       "      <td>1.0</td>\n",
       "      <td>2.0</td>\n",
       "      <td>10.0</td>\n",
       "      <td>7.0</td>\n",
       "      <td>0.0</td>\n",
       "      <td>1</td>\n",
       "    </tr>\n",
       "    <tr>\n",
       "      <th>4</th>\n",
       "      <td>2020-04-08 02:50:00</td>\n",
       "      <td>9.0</td>\n",
       "      <td>7.0</td>\n",
       "      <td>1.0</td>\n",
       "      <td>6.0</td>\n",
       "      <td>9.0</td>\n",
       "      <td>0.0</td>\n",
       "      <td>1</td>\n",
       "    </tr>\n",
       "  </tbody>\n",
       "</table>\n",
       "</div>"
      ],
      "text/plain": [
       "                  time  sewer_and_water  power  roads_and_bridges  medical  \\\n",
       "0  2020-04-08 17:50:00             10.0    6.0               10.0      3.0   \n",
       "1  2020-04-09 13:50:00              2.0   10.0                0.0      8.0   \n",
       "2  2020-04-09 00:20:00              7.0   10.0               10.0      9.0   \n",
       "3  2020-04-08 17:25:00              1.0    1.0                2.0     10.0   \n",
       "4  2020-04-08 02:50:00              9.0    7.0                1.0      6.0   \n",
       "\n",
       "   buildings  shake_intensity  location  \n",
       "0        8.0              0.0         1  \n",
       "1        4.0              0.0         1  \n",
       "2       10.0              0.0         1  \n",
       "3        7.0              0.0         1  \n",
       "4        9.0              0.0         1  "
      ]
     },
     "metadata": {},
     "output_type": "display_data"
    },
    {
     "name": "stdout",
     "output_type": "stream",
     "text": [
      "\n",
      "Total number of missing Values\n"
     ]
    },
    {
     "data": {
      "text/plain": [
       "time                 0\n",
       "sewer_and_water      0\n",
       "power                0\n",
       "roads_and_bridges    0\n",
       "medical              0\n",
       "buildings            0\n",
       "shake_intensity      0\n",
       "location             0\n",
       "dtype: int64"
      ]
     },
     "metadata": {},
     "output_type": "display_data"
    }
   ],
   "source": [
    "# Convert all column title into python list\n",
    "cols = df.columns.tolist()\n",
    "\n",
    "# replace 'NaN' in every cols entry\n",
    "for c in cols:\n",
    "    df[c].fillna(0.00, inplace=True)\n",
    "    \n",
    "display(df.head())\n",
    "print(\"\\nTotal number of missing Values\")\n",
    "display(df.isnull().sum())"
   ]
  },
  {
   "cell_type": "markdown",
   "metadata": {},
   "source": [
    "In the above cell, it can be observed that all the 'NaN' or the missing values have been replaced by zero.\n",
    "\n",
    "Next, we will split the 'time' field. The 'time' field has both data and time entered together. Splitting them up into different fileds"
   ]
  },
  {
   "cell_type": "code",
   "execution_count": 106,
   "metadata": {},
   "outputs": [],
   "source": [
    "# Split 'time' into 'Date' and 'Time' \n",
    "df['Date'] = pd.to_datetime(df['time']).dt.date\n",
    "df['Time'] = pd.to_datetime(df['time']).dt.time\n",
    "\n",
    "#display(df.head(5))\n",
    "\n",
    "# Drop the old 'time' column\n",
    "df.drop(columns = ['time'], inplace=True)\n",
    "\n",
    "#display(df.head(5))\n",
    "\n"
   ]
  },
  {
   "cell_type": "code",
   "execution_count": 107,
   "metadata": {},
   "outputs": [
    {
     "data": {
      "text/html": [
       "<div>\n",
       "<style scoped>\n",
       "    .dataframe tbody tr th:only-of-type {\n",
       "        vertical-align: middle;\n",
       "    }\n",
       "\n",
       "    .dataframe tbody tr th {\n",
       "        vertical-align: top;\n",
       "    }\n",
       "\n",
       "    .dataframe thead th {\n",
       "        text-align: right;\n",
       "    }\n",
       "</style>\n",
       "<table border=\"1\" class=\"dataframe\">\n",
       "  <thead>\n",
       "    <tr style=\"text-align: right;\">\n",
       "      <th></th>\n",
       "      <th>Date</th>\n",
       "      <th>Time</th>\n",
       "      <th>sewer_and_water</th>\n",
       "      <th>power</th>\n",
       "      <th>roads_and_bridges</th>\n",
       "      <th>medical</th>\n",
       "      <th>buildings</th>\n",
       "      <th>shake_intensity</th>\n",
       "      <th>location</th>\n",
       "    </tr>\n",
       "  </thead>\n",
       "  <tbody>\n",
       "    <tr>\n",
       "      <th>0</th>\n",
       "      <td>2020-04-08</td>\n",
       "      <td>17:50:00</td>\n",
       "      <td>10.0</td>\n",
       "      <td>6.0</td>\n",
       "      <td>10.0</td>\n",
       "      <td>3.0</td>\n",
       "      <td>8.0</td>\n",
       "      <td>0.0</td>\n",
       "      <td>1</td>\n",
       "    </tr>\n",
       "    <tr>\n",
       "      <th>1</th>\n",
       "      <td>2020-04-09</td>\n",
       "      <td>13:50:00</td>\n",
       "      <td>2.0</td>\n",
       "      <td>10.0</td>\n",
       "      <td>0.0</td>\n",
       "      <td>8.0</td>\n",
       "      <td>4.0</td>\n",
       "      <td>0.0</td>\n",
       "      <td>1</td>\n",
       "    </tr>\n",
       "    <tr>\n",
       "      <th>2</th>\n",
       "      <td>2020-04-09</td>\n",
       "      <td>00:20:00</td>\n",
       "      <td>7.0</td>\n",
       "      <td>10.0</td>\n",
       "      <td>10.0</td>\n",
       "      <td>9.0</td>\n",
       "      <td>10.0</td>\n",
       "      <td>0.0</td>\n",
       "      <td>1</td>\n",
       "    </tr>\n",
       "    <tr>\n",
       "      <th>3</th>\n",
       "      <td>2020-04-08</td>\n",
       "      <td>17:25:00</td>\n",
       "      <td>1.0</td>\n",
       "      <td>1.0</td>\n",
       "      <td>2.0</td>\n",
       "      <td>10.0</td>\n",
       "      <td>7.0</td>\n",
       "      <td>0.0</td>\n",
       "      <td>1</td>\n",
       "    </tr>\n",
       "    <tr>\n",
       "      <th>4</th>\n",
       "      <td>2020-04-08</td>\n",
       "      <td>02:50:00</td>\n",
       "      <td>9.0</td>\n",
       "      <td>7.0</td>\n",
       "      <td>1.0</td>\n",
       "      <td>6.0</td>\n",
       "      <td>9.0</td>\n",
       "      <td>0.0</td>\n",
       "      <td>1</td>\n",
       "    </tr>\n",
       "  </tbody>\n",
       "</table>\n",
       "</div>"
      ],
      "text/plain": [
       "         Date      Time  sewer_and_water  power  roads_and_bridges  medical  \\\n",
       "0  2020-04-08  17:50:00             10.0    6.0               10.0      3.0   \n",
       "1  2020-04-09  13:50:00              2.0   10.0                0.0      8.0   \n",
       "2  2020-04-09  00:20:00              7.0   10.0               10.0      9.0   \n",
       "3  2020-04-08  17:25:00              1.0    1.0                2.0     10.0   \n",
       "4  2020-04-08  02:50:00              9.0    7.0                1.0      6.0   \n",
       "\n",
       "   buildings  shake_intensity  location  \n",
       "0        8.0              0.0         1  \n",
       "1        4.0              0.0         1  \n",
       "2       10.0              0.0         1  \n",
       "3        7.0              0.0         1  \n",
       "4        9.0              0.0         1  "
      ]
     },
     "metadata": {},
     "output_type": "display_data"
    },
    {
     "data": {
      "text/html": [
       "<div>\n",
       "<style scoped>\n",
       "    .dataframe tbody tr th:only-of-type {\n",
       "        vertical-align: middle;\n",
       "    }\n",
       "\n",
       "    .dataframe tbody tr th {\n",
       "        vertical-align: top;\n",
       "    }\n",
       "\n",
       "    .dataframe thead th {\n",
       "        text-align: right;\n",
       "    }\n",
       "</style>\n",
       "<table border=\"1\" class=\"dataframe\">\n",
       "  <thead>\n",
       "    <tr style=\"text-align: right;\">\n",
       "      <th></th>\n",
       "      <th>Date</th>\n",
       "      <th>Time</th>\n",
       "      <th>sewer_and_water</th>\n",
       "      <th>power</th>\n",
       "      <th>roads_and_bridges</th>\n",
       "      <th>medical</th>\n",
       "      <th>buildings</th>\n",
       "      <th>shake_intensity</th>\n",
       "      <th>location</th>\n",
       "    </tr>\n",
       "  </thead>\n",
       "  <tbody>\n",
       "    <tr>\n",
       "      <th>83065</th>\n",
       "      <td>2020-04-10</td>\n",
       "      <td>02:30:00</td>\n",
       "      <td>9.0</td>\n",
       "      <td>10.0</td>\n",
       "      <td>10.0</td>\n",
       "      <td>0.0</td>\n",
       "      <td>7.0</td>\n",
       "      <td>2.0</td>\n",
       "      <td>8</td>\n",
       "    </tr>\n",
       "    <tr>\n",
       "      <th>83066</th>\n",
       "      <td>2020-04-10</td>\n",
       "      <td>02:30:00</td>\n",
       "      <td>8.0</td>\n",
       "      <td>10.0</td>\n",
       "      <td>10.0</td>\n",
       "      <td>0.0</td>\n",
       "      <td>7.0</td>\n",
       "      <td>1.0</td>\n",
       "      <td>8</td>\n",
       "    </tr>\n",
       "    <tr>\n",
       "      <th>83067</th>\n",
       "      <td>2020-04-09</td>\n",
       "      <td>16:45:00</td>\n",
       "      <td>10.0</td>\n",
       "      <td>9.0</td>\n",
       "      <td>10.0</td>\n",
       "      <td>0.0</td>\n",
       "      <td>8.0</td>\n",
       "      <td>1.0</td>\n",
       "      <td>8</td>\n",
       "    </tr>\n",
       "    <tr>\n",
       "      <th>83068</th>\n",
       "      <td>2020-04-09</td>\n",
       "      <td>16:55:00</td>\n",
       "      <td>8.0</td>\n",
       "      <td>8.0</td>\n",
       "      <td>9.0</td>\n",
       "      <td>0.0</td>\n",
       "      <td>7.0</td>\n",
       "      <td>0.0</td>\n",
       "      <td>8</td>\n",
       "    </tr>\n",
       "    <tr>\n",
       "      <th>83069</th>\n",
       "      <td>2020-04-10</td>\n",
       "      <td>02:30:00</td>\n",
       "      <td>9.0</td>\n",
       "      <td>10.0</td>\n",
       "      <td>10.0</td>\n",
       "      <td>0.0</td>\n",
       "      <td>6.0</td>\n",
       "      <td>-0.0</td>\n",
       "      <td>8</td>\n",
       "    </tr>\n",
       "  </tbody>\n",
       "</table>\n",
       "</div>"
      ],
      "text/plain": [
       "             Date      Time  sewer_and_water  power  roads_and_bridges  \\\n",
       "83065  2020-04-10  02:30:00              9.0   10.0               10.0   \n",
       "83066  2020-04-10  02:30:00              8.0   10.0               10.0   \n",
       "83067  2020-04-09  16:45:00             10.0    9.0               10.0   \n",
       "83068  2020-04-09  16:55:00              8.0    8.0                9.0   \n",
       "83069  2020-04-10  02:30:00              9.0   10.0               10.0   \n",
       "\n",
       "       medical  buildings  shake_intensity  location  \n",
       "83065      0.0        7.0              2.0         8  \n",
       "83066      0.0        7.0              1.0         8  \n",
       "83067      0.0        8.0              1.0         8  \n",
       "83068      0.0        7.0              0.0         8  \n",
       "83069      0.0        6.0             -0.0         8  "
      ]
     },
     "metadata": {},
     "output_type": "display_data"
    }
   ],
   "source": [
    "# Rearrage the columns\n",
    "\n",
    "# List of all remaining columns\n",
    "cols = df.columns.tolist()\n",
    "# Move the Last 2 columns to first\n",
    "cols = cols[-2:] + cols[:-2]\n",
    "df = df[cols]\n",
    "\n",
    "display(df.head())\n",
    "display(df.tail())"
   ]
  },
  {
   "cell_type": "markdown",
   "metadata": {},
   "source": [
    "Now that the data cleaned to a satisfactory degree, we will save it for further use. "
   ]
  },
  {
   "cell_type": "code",
   "execution_count": 108,
   "metadata": {},
   "outputs": [
    {
     "data": {
      "text/plain": [
       "0    17:50:00\n",
       "1    13:50:00\n",
       "2    00:20:00\n",
       "3    17:25:00\n",
       "4    02:50:00\n",
       "Name: Time, dtype: object"
      ]
     },
     "execution_count": 108,
     "metadata": {},
     "output_type": "execute_result"
    }
   ],
   "source": [
    "df['Time'].head()"
   ]
  },
  {
   "cell_type": "code",
   "execution_count": 109,
   "metadata": {},
   "outputs": [],
   "source": [
    "#Saving cleaned data set\n",
    "df.to_csv(\"MC1_Clean.csv\")"
   ]
  },
  {
   "cell_type": "markdown",
   "metadata": {},
   "source": [
    "# Replacing Missing Values with Mean / Averages \n",
    "\n",
    "Replacing the missing values with zeros brings down the total average by a big margin. Would replacing all the missing values with the average / mean of the respective category give better results? Lets find out. "
   ]
  },
  {
   "cell_type": "code",
   "execution_count": 123,
   "metadata": {},
   "outputs": [
    {
     "data": {
      "text/html": [
       "<div>\n",
       "<style scoped>\n",
       "    .dataframe tbody tr th:only-of-type {\n",
       "        vertical-align: middle;\n",
       "    }\n",
       "\n",
       "    .dataframe tbody tr th {\n",
       "        vertical-align: top;\n",
       "    }\n",
       "\n",
       "    .dataframe thead th {\n",
       "        text-align: right;\n",
       "    }\n",
       "</style>\n",
       "<table border=\"1\" class=\"dataframe\">\n",
       "  <thead>\n",
       "    <tr style=\"text-align: right;\">\n",
       "      <th></th>\n",
       "      <th>time</th>\n",
       "      <th>sewer_and_water</th>\n",
       "      <th>power</th>\n",
       "      <th>roads_and_bridges</th>\n",
       "      <th>medical</th>\n",
       "      <th>buildings</th>\n",
       "      <th>shake_intensity</th>\n",
       "      <th>location</th>\n",
       "      <th>index</th>\n",
       "    </tr>\n",
       "  </thead>\n",
       "  <tbody>\n",
       "    <tr>\n",
       "      <th>79109</th>\n",
       "      <td>2020-04-09 18:15:00</td>\n",
       "      <td>8.0</td>\n",
       "      <td>4.0</td>\n",
       "      <td>4.0</td>\n",
       "      <td>4.0</td>\n",
       "      <td>3.0</td>\n",
       "      <td>NaN</td>\n",
       "      <td>16</td>\n",
       "      <td>79109</td>\n",
       "    </tr>\n",
       "    <tr>\n",
       "      <th>79110</th>\n",
       "      <td>2020-04-09 15:20:00</td>\n",
       "      <td>7.0</td>\n",
       "      <td>4.0</td>\n",
       "      <td>5.0</td>\n",
       "      <td>3.0</td>\n",
       "      <td>4.0</td>\n",
       "      <td>NaN</td>\n",
       "      <td>16</td>\n",
       "      <td>79110</td>\n",
       "    </tr>\n",
       "    <tr>\n",
       "      <th>79111</th>\n",
       "      <td>2020-04-09 17:40:00</td>\n",
       "      <td>8.0</td>\n",
       "      <td>5.0</td>\n",
       "      <td>6.0</td>\n",
       "      <td>5.0</td>\n",
       "      <td>5.0</td>\n",
       "      <td>NaN</td>\n",
       "      <td>16</td>\n",
       "      <td>79111</td>\n",
       "    </tr>\n",
       "    <tr>\n",
       "      <th>79112</th>\n",
       "      <td>2020-04-09 16:00:00</td>\n",
       "      <td>7.0</td>\n",
       "      <td>4.0</td>\n",
       "      <td>4.0</td>\n",
       "      <td>5.0</td>\n",
       "      <td>4.0</td>\n",
       "      <td>NaN</td>\n",
       "      <td>16</td>\n",
       "      <td>79112</td>\n",
       "    </tr>\n",
       "    <tr>\n",
       "      <th>79113</th>\n",
       "      <td>2020-04-09 15:15:00</td>\n",
       "      <td>9.0</td>\n",
       "      <td>4.0</td>\n",
       "      <td>4.0</td>\n",
       "      <td>5.0</td>\n",
       "      <td>3.0</td>\n",
       "      <td>NaN</td>\n",
       "      <td>16</td>\n",
       "      <td>79113</td>\n",
       "    </tr>\n",
       "  </tbody>\n",
       "</table>\n",
       "</div>"
      ],
      "text/plain": [
       "                      time  sewer_and_water  power  roads_and_bridges  \\\n",
       "79109  2020-04-09 18:15:00              8.0    4.0                4.0   \n",
       "79110  2020-04-09 15:20:00              7.0    4.0                5.0   \n",
       "79111  2020-04-09 17:40:00              8.0    5.0                6.0   \n",
       "79112  2020-04-09 16:00:00              7.0    4.0                4.0   \n",
       "79113  2020-04-09 15:15:00              9.0    4.0                4.0   \n",
       "\n",
       "       medical  buildings  shake_intensity  location  index  \n",
       "79109      4.0        3.0              NaN        16  79109  \n",
       "79110      3.0        4.0              NaN        16  79110  \n",
       "79111      5.0        5.0              NaN        16  79111  \n",
       "79112      5.0        4.0              NaN        16  79112  \n",
       "79113      5.0        3.0              NaN        16  79113  "
      ]
     },
     "execution_count": 123,
     "metadata": {},
     "output_type": "execute_result"
    }
   ],
   "source": [
    "split_loc = [ loc for location, loc in df_avg.groupby('location')]\n",
    "split_loc[15].tail()"
   ]
  },
  {
   "cell_type": "code",
   "execution_count": 124,
   "metadata": {},
   "outputs": [
    {
     "name": "stdout",
     "output_type": "stream",
     "text": [
      "location =  1\n"
     ]
    },
    {
     "data": {
      "text/plain": [
       "time                   0\n",
       "sewer_and_water        0\n",
       "power                  0\n",
       "roads_and_bridges      0\n",
       "medical                0\n",
       "buildings              0\n",
       "shake_intensity      889\n",
       "location               0\n",
       "index                  0\n",
       "dtype: int64"
      ]
     },
     "metadata": {},
     "output_type": "display_data"
    },
    {
     "name": "stdout",
     "output_type": "stream",
     "text": [
      "location =  2\n"
     ]
    },
    {
     "data": {
      "text/plain": [
       "time                    0\n",
       "sewer_and_water         0\n",
       "power                   0\n",
       "roads_and_bridges       0\n",
       "medical              5294\n",
       "buildings               0\n",
       "shake_intensity       974\n",
       "location                0\n",
       "index                   0\n",
       "dtype: int64"
      ]
     },
     "metadata": {},
     "output_type": "display_data"
    },
    {
     "name": "stdout",
     "output_type": "stream",
     "text": [
      "location =  3\n"
     ]
    },
    {
     "data": {
      "text/plain": [
       "time                   0\n",
       "sewer_and_water        0\n",
       "power                  0\n",
       "roads_and_bridges      0\n",
       "medical                0\n",
       "buildings              0\n",
       "shake_intensity      770\n",
       "location               0\n",
       "index                  0\n",
       "dtype: int64"
      ]
     },
     "metadata": {},
     "output_type": "display_data"
    },
    {
     "name": "stdout",
     "output_type": "stream",
     "text": [
      "location =  4\n"
     ]
    },
    {
     "data": {
      "text/plain": [
       "time                    0\n",
       "sewer_and_water         0\n",
       "power                   0\n",
       "roads_and_bridges       0\n",
       "medical              2867\n",
       "buildings               0\n",
       "shake_intensity       225\n",
       "location                0\n",
       "index                   0\n",
       "dtype: int64"
      ]
     },
     "metadata": {},
     "output_type": "display_data"
    },
    {
     "name": "stdout",
     "output_type": "stream",
     "text": [
      "location =  5\n"
     ]
    },
    {
     "data": {
      "text/plain": [
       "time                   0\n",
       "sewer_and_water        0\n",
       "power                  0\n",
       "roads_and_bridges      0\n",
       "medical                0\n",
       "buildings              0\n",
       "shake_intensity      374\n",
       "location               0\n",
       "index                  0\n",
       "dtype: int64"
      ]
     },
     "metadata": {},
     "output_type": "display_data"
    },
    {
     "name": "stdout",
     "output_type": "stream",
     "text": [
      "location =  6\n"
     ]
    },
    {
     "data": {
      "text/plain": [
       "time                    0\n",
       "sewer_and_water         0\n",
       "power                   0\n",
       "roads_and_bridges       0\n",
       "medical                 0\n",
       "buildings               0\n",
       "shake_intensity      1062\n",
       "location                0\n",
       "index                   0\n",
       "dtype: int64"
      ]
     },
     "metadata": {},
     "output_type": "display_data"
    },
    {
     "name": "stdout",
     "output_type": "stream",
     "text": [
      "location =  7\n"
     ]
    },
    {
     "data": {
      "text/plain": [
       "time                   0\n",
       "sewer_and_water      171\n",
       "power                  0\n",
       "roads_and_bridges      0\n",
       "medical              172\n",
       "buildings            170\n",
       "shake_intensity        9\n",
       "location               0\n",
       "index                  0\n",
       "dtype: int64"
      ]
     },
     "metadata": {},
     "output_type": "display_data"
    },
    {
     "name": "stdout",
     "output_type": "stream",
     "text": [
      "location =  8\n"
     ]
    },
    {
     "data": {
      "text/plain": [
       "time                     0\n",
       "sewer_and_water          0\n",
       "power                    0\n",
       "roads_and_bridges        0\n",
       "medical              13654\n",
       "buildings                0\n",
       "shake_intensity        895\n",
       "location                 0\n",
       "index                    0\n",
       "dtype: int64"
      ]
     },
     "metadata": {},
     "output_type": "display_data"
    },
    {
     "name": "stdout",
     "output_type": "stream",
     "text": [
      "location =  9\n"
     ]
    },
    {
     "data": {
      "text/plain": [
       "time                   0\n",
       "sewer_and_water        0\n",
       "power                  0\n",
       "roads_and_bridges      0\n",
       "medical                0\n",
       "buildings              0\n",
       "shake_intensity      870\n",
       "location               0\n",
       "index                  0\n",
       "dtype: int64"
      ]
     },
     "metadata": {},
     "output_type": "display_data"
    },
    {
     "name": "stdout",
     "output_type": "stream",
     "text": [
      "location =  10\n"
     ]
    },
    {
     "data": {
      "text/plain": [
       "time                    0\n",
       "sewer_and_water         0\n",
       "power                   0\n",
       "roads_and_bridges       0\n",
       "medical              2178\n",
       "buildings               0\n",
       "shake_intensity       278\n",
       "location                0\n",
       "index                   0\n",
       "dtype: int64"
      ]
     },
     "metadata": {},
     "output_type": "display_data"
    },
    {
     "name": "stdout",
     "output_type": "stream",
     "text": [
      "location =  11\n"
     ]
    },
    {
     "data": {
      "text/plain": [
       "time                   0\n",
       "sewer_and_water        0\n",
       "power                  0\n",
       "roads_and_bridges      0\n",
       "medical                0\n",
       "buildings              0\n",
       "shake_intensity      193\n",
       "location               0\n",
       "index                  0\n",
       "dtype: int64"
      ]
     },
     "metadata": {},
     "output_type": "display_data"
    },
    {
     "name": "stdout",
     "output_type": "stream",
     "text": [
      "location =  12\n"
     ]
    },
    {
     "data": {
      "text/plain": [
       "time                    0\n",
       "sewer_and_water         0\n",
       "power                   0\n",
       "roads_and_bridges       0\n",
       "medical              3411\n",
       "buildings               0\n",
       "shake_intensity       246\n",
       "location                0\n",
       "index                   0\n",
       "dtype: int64"
      ]
     },
     "metadata": {},
     "output_type": "display_data"
    },
    {
     "name": "stdout",
     "output_type": "stream",
     "text": [
      "location =  13\n"
     ]
    },
    {
     "data": {
      "text/plain": [
       "time                    0\n",
       "sewer_and_water         0\n",
       "power                   0\n",
       "roads_and_bridges       0\n",
       "medical              1205\n",
       "buildings               0\n",
       "shake_intensity       750\n",
       "location                0\n",
       "index                   0\n",
       "dtype: int64"
      ]
     },
     "metadata": {},
     "output_type": "display_data"
    },
    {
     "name": "stdout",
     "output_type": "stream",
     "text": [
      "location =  14\n"
     ]
    },
    {
     "data": {
      "text/plain": [
       "time                    0\n",
       "sewer_and_water         0\n",
       "power                   0\n",
       "roads_and_bridges       0\n",
       "medical              6344\n",
       "buildings               0\n",
       "shake_intensity       429\n",
       "location                0\n",
       "index                   0\n",
       "dtype: int64"
      ]
     },
     "metadata": {},
     "output_type": "display_data"
    },
    {
     "name": "stdout",
     "output_type": "stream",
     "text": [
      "location =  15\n"
     ]
    },
    {
     "data": {
      "text/plain": [
       "time                    0\n",
       "sewer_and_water         0\n",
       "power                   0\n",
       "roads_and_bridges       0\n",
       "medical              4654\n",
       "buildings               0\n",
       "shake_intensity      1074\n",
       "location                0\n",
       "index                   0\n",
       "dtype: int64"
      ]
     },
     "metadata": {},
     "output_type": "display_data"
    },
    {
     "name": "stdout",
     "output_type": "stream",
     "text": [
      "location =  16\n"
     ]
    },
    {
     "data": {
      "text/plain": [
       "time                    0\n",
       "sewer_and_water         0\n",
       "power                   0\n",
       "roads_and_bridges       0\n",
       "medical                 0\n",
       "buildings               0\n",
       "shake_intensity      2166\n",
       "location                0\n",
       "index                   0\n",
       "dtype: int64"
      ]
     },
     "metadata": {},
     "output_type": "display_data"
    },
    {
     "name": "stdout",
     "output_type": "stream",
     "text": [
      "location =  17\n"
     ]
    },
    {
     "data": {
      "text/plain": [
       "time                    0\n",
       "sewer_and_water         0\n",
       "power                   0\n",
       "roads_and_bridges       0\n",
       "medical              1693\n",
       "buildings               0\n",
       "shake_intensity       191\n",
       "location                0\n",
       "index                   0\n",
       "dtype: int64"
      ]
     },
     "metadata": {},
     "output_type": "display_data"
    },
    {
     "name": "stdout",
     "output_type": "stream",
     "text": [
      "location =  18\n"
     ]
    },
    {
     "data": {
      "text/plain": [
       "time                    0\n",
       "sewer_and_water         0\n",
       "power                   0\n",
       "roads_and_bridges       0\n",
       "medical              4476\n",
       "buildings               0\n",
       "shake_intensity       357\n",
       "location                0\n",
       "index                   0\n",
       "dtype: int64"
      ]
     },
     "metadata": {},
     "output_type": "display_data"
    },
    {
     "name": "stdout",
     "output_type": "stream",
     "text": [
      "location =  19\n"
     ]
    },
    {
     "data": {
      "text/plain": [
       "time                    0\n",
       "sewer_and_water         0\n",
       "power                   0\n",
       "roads_and_bridges       0\n",
       "medical              1493\n",
       "buildings               0\n",
       "shake_intensity       392\n",
       "location                0\n",
       "index                   0\n",
       "dtype: int64"
      ]
     },
     "metadata": {},
     "output_type": "display_data"
    },
    {
     "name": "stdout",
     "output_type": "stream",
     "text": [
      "['time', 'sewer_and_water', 'power', 'roads_and_bridges', 'medical', 'buildings', 'shake_intensity', 'location', 'index']\n"
     ]
    }
   ],
   "source": [
    "for l in range(len(split_loc)):\n",
    "    print(\"location = \", l+1)\n",
    "    display(split_loc[l].isnull().sum())\n",
    "    \n",
    "col_avg = df_avg.columns.tolist()\n",
    "print(col_avg)"
   ]
  },
  {
   "cell_type": "code",
   "execution_count": 125,
   "metadata": {},
   "outputs": [
    {
     "name": "stdout",
     "output_type": "stream",
     "text": [
      "sewer_and_water          4.740072\n",
      "power                    4.759326\n",
      "roads_and_bridges        4.867629\n",
      "medical                  4.974729\n",
      "buildings                4.904934\n",
      "shake_intensity          0.708926\n",
      "location                 1.000000\n",
      "index                29867.622744\n",
      "dtype: float64\n",
      "the mean  sewer_and_water  for location 1  is: \n",
      "  4.740072202166065\n",
      "the mean  power  for location 1  is: \n",
      "  4.759326113116727\n",
      "the mean  roads_and_bridges  for location 1  is: \n",
      "  4.8676293622142\n",
      "the mean  medical  for location 1  is: \n",
      "  4.974729241877256\n",
      "the mean  buildings  for location 1  is: \n",
      "  4.904933814681107\n",
      "the mean  shake_intensity  for location 1  is: \n",
      "  0.7089262613195343\n",
      "the mean  location  for location 1  is: \n",
      "  1.0\n",
      "the mean  index  for location 1  is: \n",
      "  29867.62274368231\n",
      "the mean  sewer_and_water  for location 2  is: \n",
      "  3.413543599257885\n",
      "the mean  power  for location 2  is: \n",
      "  4.313543599257885\n",
      "the mean  roads_and_bridges  for location 2  is: \n",
      "  4.779777365491651\n",
      "the mean  medical  for location 2  is: \n",
      "  5.0\n",
      "the mean  buildings  for location 2  is: \n",
      "  1.9601113172541744\n",
      "the mean  shake_intensity  for location 2  is: \n",
      "  1.5459692028985508\n",
      "the mean  location  for location 2  is: \n",
      "  2.0\n",
      "the mean  index  for location 2  is: \n",
      "  23096.415584415583\n",
      "the mean  sewer_and_water  for location 3  is: \n",
      "  7.275434059844847\n",
      "the mean  power  for location 3  is: \n",
      "  8.461396379756188\n",
      "the mean  roads_and_bridges  for location 3  is: \n",
      "  7.267085334318434\n",
      "the mean  medical  for location 3  is: \n",
      "  7.0552641300332475\n",
      "the mean  buildings  for location 3  is: \n",
      "  5.8319911340967865\n",
      "the mean  shake_intensity  for location 3  is: \n",
      "  4.866980023501763\n",
      "the mean  location  for location 3  is: \n",
      "  3.0\n",
      "the mean  index  for location 3  is: \n",
      "  37196.98995197636\n",
      "the mean  sewer_and_water  for location 4  is: \n",
      "  5.468653648509764\n",
      "the mean  power  for location 4  is: \n",
      "  4.224049331963001\n",
      "the mean  roads_and_bridges  for location 4  is: \n",
      "  4.213771839671121\n",
      "the mean  medical  for location 4  is: \n",
      "  5.423076923076923\n",
      "the mean  buildings  for location 4  is: \n",
      "  3.6920178143199727\n",
      "the mean  shake_intensity  for location 4  is: \n",
      "  4.619896065330364\n",
      "the mean  location  for location 4  is: \n",
      "  4.0\n",
      "the mean  index  for location 4  is: \n",
      "  43055.63788968825\n",
      "the mean  sewer_and_water  for location 5  is: \n",
      "  4.205263157894737\n",
      "the mean  power  for location 5  is: \n",
      "  5.065497076023392\n",
      "the mean  roads_and_bridges  for location 5  is: \n",
      "  4.083625730994152\n",
      "the mean  medical  for location 5  is: \n",
      "  2.110526315789474\n",
      "the mean  buildings  for location 5  is: \n",
      "  3.4947368421052634\n",
      "the mean  shake_intensity  for location 5  is: \n",
      "  0.6646706586826348\n",
      "the mean  location  for location 5  is: \n",
      "  5.0\n",
      "the mean  index  for location 5  is: \n",
      "  28421.961403508772\n",
      "the mean  sewer_and_water  for location 6  is: \n",
      "  2.937974683544304\n",
      "the mean  power  for location 6  is: \n",
      "  3.062974683544304\n",
      "the mean  roads_and_bridges  for location 6  is: \n",
      "  3.318987341772152\n",
      "the mean  medical  for location 6  is: \n",
      "  3.306012658227848\n",
      "the mean  buildings  for location 6  is: \n",
      "  3.516139240506329\n",
      "the mean  shake_intensity  for location 6  is: \n",
      "  1.15395614871306\n",
      "the mean  location  for location 6  is: \n",
      "  6.0\n",
      "the mean  index  for location 6  is: \n",
      "  27219.26993670886\n",
      "the mean  sewer_and_water  for location 7  is: \n",
      "  8.5\n",
      "the mean  power  for location 7  is: \n",
      "  7.838150289017341\n",
      "the mean  roads_and_bridges  for location 7  is: \n",
      "  5.91907514450867\n",
      "the mean  medical  for location 7  is: \n",
      "  6.0\n",
      "the mean  buildings  for location 7  is: \n",
      "  5.666666666666667\n",
      "the mean  shake_intensity  for location 7  is: \n",
      "  4.664634146341464\n",
      "the mean  location  for location 7  is: \n",
      "  7.0\n",
      "the mean  index  for location 7  is: \n",
      "  29853.664739884392\n",
      "the mean  sewer_and_water  for location 8  is: \n",
      "  7.499748002015984\n",
      "the mean  power  for location 8  is: \n",
      "  7.4577723378212974\n",
      "the mean  roads_and_bridges  for location 8  is: \n",
      "  7.65829073367413\n",
      "the mean  medical  for location 8  is: \n",
      "  5.174468085106383\n",
      "the mean  buildings  for location 8  is: \n",
      "  5.781985744114047\n",
      "the mean  shake_intensity  for location 8  is: \n",
      "  1.632445744189626\n",
      "the mean  location  for location 8  is: \n",
      "  8.0\n",
      "the mean  index  for location 8  is: \n",
      "  45439.20908632731\n",
      "the mean  sewer_and_water  for location 9  is: \n",
      "  7.456002728512961\n",
      "the mean  power  for location 9  is: \n",
      "  5.726352887676216\n",
      "the mean  roads_and_bridges  for location 9  is: \n",
      "  6.591291496134606\n",
      "the mean  medical  for location 9  is: \n",
      "  5.184970441109595\n",
      "the mean  buildings  for location 9  is: \n",
      "  6.1684856753069575\n",
      "the mean  shake_intensity  for location 9  is: \n",
      "  1.08036840777189\n",
      "the mean  location  for location 9  is: \n",
      "  9.0\n",
      "the mean  index  for location 9  is: \n",
      "  48105.96975898136\n",
      "the mean  sewer_and_water  for location 10  is: \n",
      "  5.676909173068233\n",
      "the mean  power  for location 10  is: \n",
      "  7.6181653863533665\n",
      "the mean  roads_and_bridges  for location 10  is: \n",
      "  5.950293718933574\n",
      "the mean  medical  for location 10  is: \n",
      "  4.8\n",
      "the mean  buildings  for location 10  is: \n",
      "  6.351558969724356\n",
      "the mean  shake_intensity  for location 10  is: \n",
      "  1.5700258397932816\n",
      "the mean  location  for location 10  is: \n",
      "  10.0\n",
      "the mean  index  for location 10  is: \n",
      "  36483.71034794397\n",
      "the mean  sewer_and_water  for location 11  is: \n",
      "  6.289029535864979\n",
      "the mean  power  for location 11  is: \n",
      "  7.6951476793248945\n",
      "the mean  roads_and_bridges  for location 11  is: \n",
      "  4.981715893108298\n",
      "the mean  medical  for location 11  is: \n",
      "  3.8442334739803092\n",
      "the mean  buildings  for location 11  is: \n",
      "  4.963783403656821\n",
      "the mean  shake_intensity  for location 11  is: \n",
      "  2.5601659751037342\n",
      "the mean  location  for location 11  is: \n",
      "  11.0\n",
      "the mean  index  for location 11  is: \n",
      "  42028.38994374121\n",
      "the mean  sewer_and_water  for location 12  is: \n",
      "  3.182789488882472\n",
      "the mean  power  for location 12  is: \n",
      "  5.58619693907017\n",
      "the mean  roads_and_bridges  for location 12  is: \n",
      "  4.039849841178169\n",
      "the mean  medical  for location 12  is: \n",
      "  5.326923076923077\n",
      "the mean  buildings  for location 12  is: \n",
      "  3.14034074501877\n",
      "the mean  shake_intensity  for location 12  is: \n",
      "  4.397575380789555\n",
      "the mean  location  for location 12  is: \n",
      "  12.0\n",
      "the mean  index  for location 12  is: \n",
      "  44625.398498411785\n",
      "the mean  sewer_and_water  for location 13  is: \n",
      "  3.8898858075040783\n",
      "the mean  power  for location 13  is: \n",
      "  3.2438825448613375\n",
      "the mean  roads_and_bridges  for location 13  is: \n",
      "  4.1590538336052205\n",
      "the mean  medical  for location 13  is: \n",
      "  4.0\n",
      "the mean  buildings  for location 13  is: \n",
      "  4.041598694942904\n",
      "the mean  shake_intensity  for location 13  is: \n",
      "  2.46218487394958\n",
      "the mean  location  for location 13  is: \n",
      "  13.0\n",
      "the mean  index  for location 13  is: \n",
      "  47334.152528548126\n",
      "the mean  sewer_and_water  for location 14  is: \n",
      "  6.125836055374086\n",
      "the mean  power  for location 14  is: \n",
      "  6.256494011510344\n",
      "the mean  roads_and_bridges  for location 14  is: \n",
      "  6.2723596204697465\n",
      "the mean  medical  for location 14  is: \n",
      "  4.741176470588235\n",
      "the mean  buildings  for location 14  is: \n",
      "  4.724062840255094\n",
      "the mean  shake_intensity  for location 14  is: \n",
      "  3.4445\n",
      "the mean  location  for location 14  is: \n",
      "  14.0\n",
      "the mean  index  for location 14  is: \n",
      "  47063.36133146679\n",
      "the mean  sewer_and_water  for location 15  is: \n",
      "  3.534573905688306\n",
      "the mean  power  for location 15  is: \n",
      "  3.14125607950941\n",
      "the mean  roads_and_bridges  for location 15  is: \n",
      "  3.5770776062592513\n",
      "the mean  medical  for location 15  is: \n",
      "  5.533333333333333\n",
      "the mean  buildings  for location 15  is: \n",
      "  3.0803552548107422\n",
      "the mean  shake_intensity  for location 15  is: \n",
      "  2.2098495212038305\n",
      "the mean  location  for location 15  is: \n",
      "  15.0\n",
      "the mean  index  for location 15  is: \n",
      "  40699.08500740114\n",
      "the mean  sewer_and_water  for location 16  is: \n",
      "  5.1828298887122415\n",
      "the mean  power  for location 16  is: \n",
      "  3.6273449920508742\n",
      "the mean  roads_and_bridges  for location 16  is: \n",
      "  4.171383147853736\n",
      "the mean  medical  for location 16  is: \n",
      "  3.6149443561208265\n",
      "the mean  buildings  for location 16  is: \n",
      "  3.349443561208267\n",
      "the mean  shake_intensity  for location 16  is: \n",
      "  1.150153217568948\n",
      "the mean  location  for location 16  is: \n",
      "  16.0\n",
      "the mean  index  for location 16  is: \n",
      "  57711.3586645469\n",
      "the mean  sewer_and_water  for location 17  is: \n",
      "  1.9102489866821077\n",
      "the mean  power  for location 17  is: \n",
      "  5.89171974522293\n",
      "the mean  roads_and_bridges  for location 17  is: \n",
      "  5.874348581354951\n",
      "the mean  medical  for location 17  is: \n",
      "  4.588235294117647\n",
      "the mean  buildings  for location 17  is: \n",
      "  3.294151708164447\n",
      "the mean  shake_intensity  for location 17  is: \n",
      "  1.6302083333333333\n",
      "the mean  location  for location 17  is: \n",
      "  17.0\n",
      "the mean  index  for location 17  is: \n",
      "  47538.41111754488\n",
      "the mean  sewer_and_water  for location 18  is: \n",
      "  3.3564356435643563\n",
      "the mean  power  for location 18  is: \n",
      "  6.025962596259626\n",
      "the mean  roads_and_bridges  for location 18  is: \n",
      "  4.056985698569857\n",
      "the mean  medical  for location 18  is: \n",
      "  4.550724637681159\n",
      "the mean  buildings  for location 18  is: \n",
      "  4.980858085808581\n",
      "the mean  shake_intensity  for location 18  is: \n",
      "  3.518863419293219\n",
      "the mean  location  for location 18  is: \n",
      "  18.0\n",
      "the mean  index  for location 18  is: \n",
      "  48623.12167216722\n",
      "the mean  sewer_and_water  for location 19  is: \n",
      "  2.7485148514851487\n",
      "the mean  power  for location 19  is: \n",
      "  2.9122112211221123\n",
      "the mean  roads_and_bridges  for location 19  is: \n",
      "  2.887788778877888\n",
      "the mean  medical  for location 19  is: \n",
      "  5.2272727272727275\n",
      "the mean  buildings  for location 19  is: \n",
      "  3.54983498349835\n",
      "the mean  shake_intensity  for location 19  is: \n",
      "  1.9741763134461265\n",
      "the mean  location  for location 19  is: \n",
      "  19.0\n",
      "the mean  index  for location 19  is: \n",
      "  39940.644224422445\n"
     ]
    }
   ],
   "source": [
    "# Find columnwise average\n",
    "col_mean = []\n",
    "lim = len(split_loc)\n",
    "\n",
    "for l in range(lim): \n",
    "    col_mean.append( split_loc[l].mean(skipna = True) )\n",
    "\n",
    "\n",
    "print(col_mean[0])\n",
    "\n",
    "for l in range(lim):\n",
    "    for c in col_avg:\n",
    "        if c != 'time':\n",
    "            print(\"the mean \", c, \" for location\", int(col_mean[l][-2]), \" is: \\n \", col_mean[l][c])\n"
   ]
  },
  {
   "cell_type": "code",
   "execution_count": 138,
   "metadata": {},
   "outputs": [],
   "source": [
    "for l in range(lim):\n",
    "    for c in col_avg:\n",
    "        if c != 'time':\n",
    "            split_loc[l][c].fillna(col_mean[l][c], inplace=True)"
   ]
  },
  {
   "cell_type": "code",
   "execution_count": 139,
   "metadata": {},
   "outputs": [
    {
     "data": {
      "text/plain": [
       "time                     0\n",
       "sewer_and_water        171\n",
       "power                    0\n",
       "roads_and_bridges        0\n",
       "medical              47441\n",
       "buildings              170\n",
       "shake_intensity      12144\n",
       "location                 0\n",
       "index                    0\n",
       "dtype: int64"
      ]
     },
     "metadata": {},
     "output_type": "display_data"
    },
    {
     "data": {
      "text/plain": [
       "time                     0\n",
       "sewer_and_water        171\n",
       "power                    0\n",
       "roads_and_bridges        0\n",
       "medical              47441\n",
       "buildings              170\n",
       "shake_intensity      12144\n",
       "location                 0\n",
       "index                    0\n",
       "dtype: int64"
      ]
     },
     "metadata": {},
     "output_type": "display_data"
    }
   ],
   "source": [
    "# for l in range(len(split_loc)):\n",
    "#     display(split_loc[l].isnull().sum())\n",
    "    \n",
    "df_avg1 = df_avg.copy()\n",
    "display(df_avg1.isnull().sum())\n",
    "display(df_avg.isnull().sum())"
   ]
  },
  {
   "cell_type": "code",
   "execution_count": 140,
   "metadata": {},
   "outputs": [
    {
     "data": {
      "text/plain": [
       "747630"
      ]
     },
     "metadata": {},
     "output_type": "display_data"
    },
    {
     "data": {
      "text/plain": [
       "747630"
      ]
     },
     "metadata": {},
     "output_type": "display_data"
    },
    {
     "data": {
      "text/plain": [
       "time                 2020-04-06 18:05:00\n",
       "sewer_and_water                        6\n",
       "power                                  7\n",
       "roads_and_bridges                      5\n",
       "medical                              NaN\n",
       "buildings                             10\n",
       "shake_intensity                      NaN\n",
       "location                               2\n",
       "index                               1234\n",
       "Name: 1234, dtype: object"
      ]
     },
     "metadata": {},
     "output_type": "display_data"
    },
    {
     "data": {
      "text/plain": [
       "time                 2020-04-08 09:55:00\n",
       "sewer_and_water                        8\n",
       "power                                 10\n",
       "roads_and_bridges                      7\n",
       "medical                                6\n",
       "buildings                              9\n",
       "shake_intensity                 0.708926\n",
       "location                               1\n",
       "index                              50921\n",
       "Name: 50921, dtype: object"
      ]
     },
     "metadata": {},
     "output_type": "display_data"
    }
   ],
   "source": [
    "df_new = pd.concat(split_loc)\n",
    "df_new.isnull().sum()\n",
    "\n",
    "display(df_new.size)\n",
    "display(df_avg.size)\n",
    "\n",
    "#Before Sorting\n",
    "\n",
    "display(df_avg.iloc[1234])\n",
    "display(df_new.iloc[1234])"
   ]
  },
  {
   "cell_type": "code",
   "execution_count": 141,
   "metadata": {},
   "outputs": [],
   "source": [
    "#Sort by index\n",
    "\n",
    "df_new.sort_values(by=['index'], inplace=True)\n",
    "df_avg.sort_values(by=['index'], inplace=True)"
   ]
  },
  {
   "cell_type": "code",
   "execution_count": 142,
   "metadata": {},
   "outputs": [
    {
     "name": "stdout",
     "output_type": "stream",
     "text": [
      "OLD DATAFRAME:\n"
     ]
    },
    {
     "data": {
      "text/plain": [
       "time                 2020-04-08 11:00:00\n",
       "sewer_and_water                        7\n",
       "power                                  7\n",
       "roads_and_bridges                      7\n",
       "medical                              NaN\n",
       "buildings                              5\n",
       "shake_intensity                        2\n",
       "location                               8\n",
       "index                              25966\n",
       "Name: 25966, dtype: object"
      ]
     },
     "metadata": {},
     "output_type": "display_data"
    },
    {
     "name": "stdout",
     "output_type": "stream",
     "text": [
      "NEW DATAFRAME:\n"
     ]
    },
    {
     "data": {
      "text/plain": [
       "time                 2020-04-08 11:00:00\n",
       "sewer_and_water                        7\n",
       "power                                  7\n",
       "roads_and_bridges                      7\n",
       "medical                          5.17447\n",
       "buildings                              5\n",
       "shake_intensity                        2\n",
       "location                               8\n",
       "index                              25966\n",
       "Name: 25966, dtype: object"
      ]
     },
     "metadata": {},
     "output_type": "display_data"
    },
    {
     "name": "stdout",
     "output_type": "stream",
     "text": [
      "Average:\n"
     ]
    },
    {
     "data": {
      "text/plain": [
       "sewer_and_water          7.275434\n",
       "power                    8.461396\n",
       "roads_and_bridges        7.267085\n",
       "medical                  7.055264\n",
       "buildings                5.831991\n",
       "shake_intensity          4.866980\n",
       "location                 3.000000\n",
       "index                37196.989952\n",
       "dtype: float64"
      ]
     },
     "metadata": {},
     "output_type": "display_data"
    }
   ],
   "source": [
    "x = 25966\n",
    "print(\"OLD DATAFRAME:\")\n",
    "display(df_avg.iloc[x])\n",
    "\n",
    "print(\"NEW DATAFRAME:\")\n",
    "display(df_new.iloc[x])\n",
    "\n",
    "print(\"Average:\")\n",
    "display(col_mean[2])"
   ]
  },
  {
   "cell_type": "markdown",
   "metadata": {},
   "source": [
    "\n",
    "# Extra codes used for convinience"
   ]
  },
  {
   "cell_type": "code",
   "execution_count": null,
   "metadata": {},
   "outputs": [],
   "source": [
    "#Finding out all the different values in shake intensity column\n",
    "sh_int_uniq = df[cols[7]].unique()\n",
    "\n",
    "print( sorted(sh_int_uniq))"
   ]
  },
  {
   "cell_type": "code",
   "execution_count": null,
   "metadata": {},
   "outputs": [],
   "source": [
    "print(cols[8])\n",
    "unique_loc = df[cols[8]].unique()\n",
    "print(unique_loc)"
   ]
  },
  {
   "cell_type": "code",
   "execution_count": null,
   "metadata": {},
   "outputs": [],
   "source": [
    "loc7 = (df['location']==7)\n",
    "loc7_abs = df[loc7][df['medical']!=0]"
   ]
  },
  {
   "cell_type": "code",
   "execution_count": null,
   "metadata": {},
   "outputs": [],
   "source": [
    "loc7_abs.head()"
   ]
  },
  {
   "cell_type": "code",
   "execution_count": null,
   "metadata": {},
   "outputs": [],
   "source": [
    "df[loc7].head()"
   ]
  },
  {
   "cell_type": "code",
   "execution_count": null,
   "metadata": {},
   "outputs": [],
   "source": [
    "df[loc7].mean()"
   ]
  },
  {
   "cell_type": "code",
   "execution_count": null,
   "metadata": {},
   "outputs": [],
   "source": [
    "loc1 = (df['location']==1)\n",
    "df[loc1].describe()"
   ]
  },
  {
   "cell_type": "code",
   "execution_count": null,
   "metadata": {},
   "outputs": [],
   "source": [
    "loc4 = (df['location']==4)\n",
    "loc4_abs = df[loc4][df['medical']!=0]\n",
    "loc4_abs.head()"
   ]
  },
  {
   "cell_type": "code",
   "execution_count": null,
   "metadata": {},
   "outputs": [],
   "source": [
    "len(loc4)"
   ]
  },
  {
   "cell_type": "code",
   "execution_count": null,
   "metadata": {},
   "outputs": [],
   "source": [
    "len(loc4) - len(loc4_abs)"
   ]
  },
  {
   "cell_type": "code",
   "execution_count": null,
   "metadata": {},
   "outputs": [],
   "source": [
    "df[loc4].mean()"
   ]
  },
  {
   "cell_type": "code",
   "execution_count": null,
   "metadata": {},
   "outputs": [],
   "source": [
    "loc4_abs['medical'].mean()"
   ]
  },
  {
   "cell_type": "code",
   "execution_count": null,
   "metadata": {},
   "outputs": [],
   "source": [
    "type(loc4)"
   ]
  },
  {
   "cell_type": "code",
   "execution_count": null,
   "metadata": {},
   "outputs": [],
   "source": [
    "type(loc4_abs)"
   ]
  },
  {
   "cell_type": "code",
   "execution_count": null,
   "metadata": {},
   "outputs": [],
   "source": [
    "# To print df in terminal without losing the format\n",
    "\n",
    "pd.set_option('expand_frame_repr', False)\n",
    "pd.set_option('display.max_columns', 999)"
   ]
  },
  {
   "cell_type": "code",
   "execution_count": null,
   "metadata": {},
   "outputs": [],
   "source": [
    "df.head()"
   ]
  },
  {
   "cell_type": "code",
   "execution_count": null,
   "metadata": {},
   "outputs": [],
   "source": [
    "df.dtypes"
   ]
  },
  {
   "cell_type": "code",
   "execution_count": null,
   "metadata": {},
   "outputs": [],
   "source": [
    "df['Date']"
   ]
  },
  {
   "cell_type": "code",
   "execution_count": null,
   "metadata": {},
   "outputs": [],
   "source": []
  }
 ],
 "metadata": {
  "kernelspec": {
   "display_name": "Python 3",
   "language": "python",
   "name": "python3"
  },
  "language_info": {
   "codemirror_mode": {
    "name": "ipython",
    "version": 3
   },
   "file_extension": ".py",
   "mimetype": "text/x-python",
   "name": "python",
   "nbconvert_exporter": "python",
   "pygments_lexer": "ipython3",
   "version": "3.7.3"
  }
 },
 "nbformat": 4,
 "nbformat_minor": 2
}
